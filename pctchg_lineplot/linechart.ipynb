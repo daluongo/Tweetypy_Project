{
 "cells": [
  {
   "cell_type": "markdown",
   "metadata": {},
   "source": [
    "# PctChgPy\n",
    "----\n",
    "\n",
    "#### Note\n",
    "* This code plots a line graph representaton of the pct change in income and home prices over specified *timeframe.."
   ]
  },
  {
   "cell_type": "code",
   "execution_count": null,
   "metadata": {},
   "outputs": [],
   "source": [
    "# Dependencies\n",
    "%matplotlib inline\n",
    "import matplotlib.pyplot as plt\n",
    "import pandas as pd\n",
    "import numpy as np"
   ]
  },
  {
   "cell_type": "code",
   "execution_count": null,
   "metadata": {},
   "outputs": [],
   "source": [
    "# load CSV files\n",
    "csv_income_data = \"input/clean_income.csv\"\n",
    "csv_house_data = \"input/clean_housepr.csv\"\n"
   ]
  },
  {
   "cell_type": "code",
   "execution_count": null,
   "metadata": {
    "scrolled": true
   },
   "outputs": [],
   "source": [
    "# Read with pandas into dataframe\n",
    "pct_chg_income_df = pd.read_csv(csv_income_data, encoding = 'iso-8859-1', low_memory=False)\n",
    "pct_chg_house_df = pd.read_csv(csv_house_data, encoding = 'iso-8859-1', low_memory=False)\n"
   ]
  },
  {
   "cell_type": "code",
   "execution_count": null,
   "metadata": {},
   "outputs": [],
   "source": [
    "# Inspect all income columns\n",
    "list(pct_chg_income_df.columns)"
   ]
  },
  {
   "cell_type": "code",
   "execution_count": null,
   "metadata": {},
   "outputs": [],
   "source": [
    "# Inspect all housepr columns\n",
    "list(pct_chg_housepr_df.columns)"
   ]
  },
  {
   "cell_type": "code",
   "execution_count": null,
   "metadata": {},
   "outputs": [],
   "source": [
    "# Combine the data into a single dataset\n",
    "pctchg_data_complete = pd.merge(pct_chg_income_df, pct_chg_house_df, how=\"left\", on=[\"Ward\", \"Ward\"])"
   ]
  },
  {
   "cell_type": "code",
   "execution_count": null,
   "metadata": {},
   "outputs": [],
   "source": [
    "# Select subset of student data (ward, income pct chg, house pct chg)\n",
    "sub_pctchg_df = pctchg_data_complete.iloc[:,[1, 2, 3, 4, 12, 13, 14, 15, 17, 18, 19, 20, 29, 33, 43, 45, 46, 51, 52]]\n",
    "sub_pctchg_df.head()"
   ]
  },
  {
   "cell_type": "markdown",
   "metadata": {},
   "source": [
    "### Generate the Plot"
   ]
  },
  {
   "cell_type": "raw",
   "metadata": {},
   "source": [
    "# Generate the Plot (accounting for percentages of change)\n",
    "wards = sub_pctchg_df[\"Ward\"]\n",
    "pctchg_house = sub_pctchg_df[\"%ChangeMedHousingPrice\"]\n",
    "pctchg_income = sub_pctchg_df[\"%ChangeAvgIncome\"]\n",
    "\n",
    "plt.plot(wards, pctchg_hosue, \"ro\", linestyle=\"dashed\", markersize=5, linewidth=0.50)\n",
    "plt.plot(wards, pctchg_income, \"b^\", linestyle=\"dashed\", markersize=5, linewidth=0.50)\n",
    "\n",
    "\n",
    "#Add graph title and labels\n",
    "plt.title(\"Percent of Change in Income and Home Prices between 2000, adn 2016\")\n",
    "plt.ylabel(\"Percent of Chage (%)\")\n",
    "plt.xlabel(\"Ward\")\n",
    "plt.grid(True)\n",
    "plt.legend(['Med House Price', 'Avg Income'], loc=\"best\", fontsize=\"small\", fancybox=True)\n",
    "\n",
    "# Save the Figure\n",
    "plt.savefig3(output/\"pctchg/Fig3.png\")\n",
    "\n",
    "# Show the Figure\n",
    "plt.show()"
   ]
  },
  {
   "cell_type": "code",
   "execution_count": null,
   "metadata": {},
   "outputs": [],
   "source": []
  }
 ],
 "metadata": {
  "anaconda-cloud": {},
  "kernel_info": {
   "name": "python3"
  },
  "kernelspec": {
   "display_name": "Python 3",
   "language": "python",
   "name": "python3"
  },
  "language_info": {
   "codemirror_mode": {
    "name": "ipython",
    "version": 3
   },
   "file_extension": ".py",
   "mimetype": "text/x-python",
   "name": "python",
   "nbconvert_exporter": "python",
   "pygments_lexer": "ipython3",
   "version": "3.7.3"
  },
  "nteract": {
   "version": "0.12.3"
  }
 },
 "nbformat": 4,
 "nbformat_minor": 2
}
