{
 "cells": [
  {
   "cell_type": "code",
   "execution_count": null,
   "metadata": {},
   "outputs": [],
   "source": [
    "#Housing Bar Graph"
   ]
  },
  {
   "cell_type": "code",
   "execution_count": null,
   "metadata": {},
   "outputs": [],
   "source": [
    "import matplotlib.pyplot as plt\n",
    "import numpy as np"
   ]
  },
  {
   "cell_type": "code",
   "execution_count": null,
   "metadata": {},
   "outputs": [],
   "source": [
    "pctchange = [418.64, 160, 157.69, 314.04, 338.81, 375.23, 221.31, 200.08]\n",
    "x_axis = np.arange(len(pctchange))"
   ]
  },
  {
   "cell_type": "code",
   "execution_count": null,
   "metadata": {},
   "outputs": [],
   "source": [
    "plt.bar(x_axis, pctchange, color='r', alpha=0.5, align=\"center\")\n",
    "plt.ylim(-10, max(pctchange)+30)\n",
    "plt.title(\"Percent Change in Average Housing Price by Ward 2000-2016\")\n",
    "plt.xlabel(\"Ward in DC\")\n",
    "plt.ylabel(\"Percent Change in Housing Price\")\n",
    "plt.savefig(\"IncomeBar.png\")\n",
    "tick_locations = [value for value in x_axis]\n",
    "plt.xticks(tick_locations, [\"Ward 1\", \"Ward 2\", \"Ward 3\", \"Ward 4\", \"Ward 5\", \"Ward 6\", \"Ward 7\", \"Ward 8\"])\n",
    "plt.savefig(\"housingbar.png\")\n",
    "plt.show()"
   ]
  },
  {
   "cell_type": "code",
   "execution_count": null,
   "metadata": {},
   "outputs": [],
   "source": [
    "# Income Bar Chart"
   ]
  },
  {
   "cell_type": "code",
   "execution_count": null,
   "metadata": {},
   "outputs": [],
   "source": [
    "import matplotlib.pyplot as plt\n",
    "import numpy as np"
   ]
  },
  {
   "cell_type": "code",
   "execution_count": null,
   "metadata": {},
   "outputs": [],
   "source": [
    "# Create an array that percentage change of income per ward, from 2000-2016. \n",
    "pctchange = [60.94, 6.95, 4.68, 19.66, 24.35, 71.38, -3.90, 1.83]\n",
    "x_axis = np.arange(len(pctchange))"
   ]
  },
  {
   "cell_type": "code",
   "execution_count": null,
   "metadata": {},
   "outputs": [],
   "source": [
    "# Tell matplotlib that we will be making a bar chart\n",
    "# PctChangAvgIncome is our y axis and Wards is, our x axis\n",
    "# We apply align=\"edge\" to ensure our bars line up with our tick marks\n",
    "plt.bar(x_axis, pctchange, color='r', alpha=0.5, align=\"center\")\n",
    "plt.ylim(-10, max(pctchange)+30)\n",
    "plt.title(\"Percent Change in Income by Ward 2000-2016\")\n",
    "plt.xlabel(\"Ward in DC\")\n",
    "plt.ylabel(\"Percent Change in Income\")\n",
    "plt.savefig(\"IncomeBar.png\")\n",
    "tick_locations = [value for value in x_axis]\n",
    "plt.xticks(tick_locations, [\"Ward 1\", \"Ward 2\", \"Ward 3\", \"Ward 4\", \"Ward 5\", \"Ward 6\", \"Ward 7\", \"Ward 8\"])\n",
    "plt.savefig(\"incomebar.png\")\n",
    "plt.show()"
   ]
  },
  {
   "cell_type": "code",
   "execution_count": null,
   "metadata": {},
   "outputs": [],
   "source": [
    "# Charter vs. Public School Pie Charts"
   ]
  },
  {
   "cell_type": "code",
   "execution_count": null,
   "metadata": {},
   "outputs": [],
   "source": [
    "# Dependencies\n",
    "%matplotlib inline\n",
    "import matplotlib.pyplot as plt\n",
    "import pandas as pd\n",
    "import numpy as np"
   ]
  },
  {
   "cell_type": "code",
   "execution_count": null,
   "metadata": {},
   "outputs": [],
   "source": [
    "csv_path = \"output/studentbyward.csv\""
   ]
  },
  {
   "cell_type": "code",
   "execution_count": null,
   "metadata": {},
   "outputs": [],
   "source": [
    "# Read with pandas into dataframe\n",
    "studentbyward_df = pd.read_csv(csv_path, encoding = 'iso-8859-1', low_memory=False)\n",
    "\n",
    "# Inspect all columns\n",
    "list(studentbyward_df.columns)"
   ]
  },
  {
   "cell_type": "code",
   "execution_count": null,
   "metadata": {},
   "outputs": [],
   "source": [
    "# sum enrollment for 2014-15 and 2016-17\n",
    "\n",
    "studentbyward_df['Enrollment'] = studentbyward_df['PK-12 Enrollment 2014-15'] + studentbyward_df['PK-12 Enrollment 2016-17']            \n",
    "# Slide data\n",
    "sub_studentbyward_df = studentbyward_df.iloc[:,[0, 1, 2, 3, 13]]\n",
    "\n",
    "#preview data\n",
    "sub_studentbyward_df.head(10)"
   ]
  },
  {
   "cell_type": "code",
   "execution_count": null,
   "metadata": {},
   "outputs": [],
   "source": [
    "#Ward 1 Analysis\n",
    "#Slide data for Ward 1\n",
    "array = ['Ward 1']\n",
    "ward1_df = sub_studentbyward_df.loc[sub_studentbyward_df['School Ward 2016-17'].isin(array)]\n",
    "ward1_df.head()"
   ]
  },
  {
   "cell_type": "code",
   "execution_count": null,
   "metadata": {},
   "outputs": [],
   "source": [
    "#group ward 1 data by sector for data visualization\n",
    "grouped_ward1_df = ward1_df.groupby(['Sector'])\n",
    "pie_ward1_df = grouped_ward1_df.sum()\n",
    "pie_ward1_df"
   ]
  },
  {
   "cell_type": "code",
   "execution_count": null,
   "metadata": {},
   "outputs": [],
   "source": [
    "# Create Ward 1 pie chart, set color, size, and percent\n",
    "\n",
    "colors = [\"lightcoral\", \"lightskyblue\"]\n",
    "ward1plot = pie_ward1_df.plot.pie(y='Enrollment', autopct=\"%1.2f%%\", colors = colors, figsize=(10, 10))\n",
    "# Create title, save output png file\n",
    "plt.title(\"Ward 1 Charter vs. Public schools\")\n",
    "plt.savefig(\"output/ward1pie.png\")\n",
    "plt.show()"
   ]
  },
  {
   "cell_type": "code",
   "execution_count": null,
   "metadata": {},
   "outputs": [],
   "source": [
    "#Ward 2 Analysis\n",
    "#Slide data for Ward 6\n",
    "array = ['Ward 6']\n",
    "ward6_df = sub_studentbyward_df.loc[sub_studentbyward_df['School Ward 2016-17'].isin(array)]\n",
    "ward6_df.head()"
   ]
  },
  {
   "cell_type": "code",
   "execution_count": null,
   "metadata": {},
   "outputs": [],
   "source": [
    "#Group Ward 6 data by sector for data visualization\n",
    "grouped_ward6_df = ward6_df.groupby(['Sector'])\n",
    "pie_ward6_df = grouped_ward6_df.sum()\n",
    "pie_ward6_df"
   ]
  },
  {
   "cell_type": "code",
   "execution_count": null,
   "metadata": {},
   "outputs": [],
   "source": [
    "# Create Ward 3 pie chart, set color, size, and percent\n",
    "ward6plot = pie_ward6_df.plot.pie(y='Enrollment', autopct=\"%1.2f%%\", colors = colors, figsize=(10, 10))\n",
    "plt.title(\"Ward 6 Charter vs. Public schools\")\n",
    "# Create title, save output png file\n",
    "plt.savefig(\"output/ward6pie.png\")\n",
    "plt.show()"
   ]
  },
  {
   "cell_type": "code",
   "execution_count": null,
   "metadata": {},
   "outputs": [],
   "source": [
    "#Ward 3 Analysis\n",
    "#Slide data for Ward 3\n",
    "array = ['Ward 3']\n",
    "ward3_df = sub_studentbyward_df.loc[sub_studentbyward_df['School Ward 2016-17'].isin(array)]\n",
    "ward3_df.head()"
   ]
  },
  {
   "cell_type": "code",
   "execution_count": null,
   "metadata": {},
   "outputs": [],
   "source": [
    "#Group Ward 3 data by sector for data visualization\n",
    "\n",
    "grouped_ward3_df = ward3_df.groupby(['Sector'])\n",
    "pie_ward3_df = grouped_ward3_df.sum()\n",
    "pie_ward3_df"
   ]
  },
  {
   "cell_type": "code",
   "execution_count": null,
   "metadata": {},
   "outputs": [],
   "source": [
    "# Create Ward 6 pie chart, set color, size, and percent\n",
    "color = [\"lightskyblue\"]\n",
    "ward3plot = pie_ward3_df.plot.pie(y='Enrollment', autopct=\"%1.2f%%\", colors = color, figsize=(10, 10))\n",
    "# Create title, save output png file\n",
    "plt.title(\"Ward 3 Charter vs. Public schools\")\n",
    "plt.savefig(\"output/ward3pie.png\")\n",
    "plt.show()"
   ]
  },
  {
   "cell_type": "code",
   "execution_count": null,
   "metadata": {},
   "outputs": [],
   "source": [
    "# Gentrification"
   ]
  },
  {
   "cell_type": "code",
   "execution_count": null,
   "metadata": {},
   "outputs": [],
   "source": [
    "# Dependencies\n",
    "import pandas as pd"
   ]
  },
  {
   "cell_type": "code",
   "execution_count": null,
   "metadata": {},
   "outputs": [],
   "source": [
    "# load CSV\n",
    "csv_path = \"landscape-diversity-data.xlsx\""
   ]
  },
  {
   "cell_type": "code",
   "execution_count": null,
   "metadata": {},
   "outputs": [],
   "source": [
    "# Read with pandas into dataframe\n",
    "student_df = pd.read_excel(csv_path, encoding = 'iso-8859-1')\n",
    "\n",
    "# Inspect all columns\n",
    "list(student_df.columns)"
   ]
  },
  {
   "cell_type": "code",
   "execution_count": null,
   "metadata": {},
   "outputs": [],
   "source": [
    "# Select subset of student data  \n",
    "sub_student_df = student_df.iloc[:,[1, 2, 3, 4, 12, 13, 14, 15, 17, 18, 19, 20, 29, 33, 43, 45, 46]]\n",
    "sub_student_df.head()"
   ]
  },
  {
   "cell_type": "code",
   "execution_count": null,
   "metadata": {},
   "outputs": [],
   "source": [
    "# sum non-white percentages for 2014-15 and 2016-17\n",
    "\n",
    "sub_student_df = sub_student_df.copy()  \n",
    "\n",
    "sub_student_df['% Non-white 2014-15'] = sub_student_df['Percent African American, 2014-15']\\\n",
    "                                   + sub_student_df['Percent Latino, 2014-15']\\\n",
    "                                   + sub_student_df['Percent other, 2014-15']\n",
    "\n",
    "sub_student_df['% Non-white 2016-17'] = sub_student_df['Percent African American, 2016-17']\\\n",
    "                                   + sub_student_df['Percent Latino, 2016-17']\\\n",
    "                                   + sub_student_df['Percent other, 2016-17']              \n",
    "\n",
    "\n",
    "#relable column headers\n",
    "sub_student_df.rename(columns={\"School Ward, 2016-17\": \"School Ward 2016-17\",\n",
    "                              \"Percent white, 2014-15\": \"% White 2014-15\",\n",
    "                              \"Percent white, 2016-17\": \"% White 2016-17\",\n",
    "                              \"Enrollment in PK-12, 2014-15\":\"PK-12 Enrollment 2014-15\", \n",
    "                              \"Enrollment in PK-12, 2016-17\":\"PK-12 Enrollment 2016-17\", \n",
    "                              \"Percent living in Ward of school, 2016-17\":\"% living in School Ward 2016-17\", \n",
    "                              \"Change in race and ethnicity plurality group, 2014-15 to 2016-17\": \n",
    "                              \"% Change in Race/Ethnic Group between 2014-15 and 2016-17\",\n",
    "                              \"Change in economic plurality group, 2014-15 to 2016-17\":\n",
    "                              \"% Change in Economic Group between 2014-15 and 2016-17\"}, inplace = True)\n",
    "\n",
    "#preview data\n",
    "sub_student_df.head()"
   ]
  },
  {
   "cell_type": "code",
   "execution_count": null,
   "metadata": {},
   "outputs": [],
   "source": [
    "#create new data frame with revised columns\n",
    "new_student_df=sub_student_df[['School Ward 2016-17', 'Sector', 'School name', 'Grade band', '% Non-white 2014-15',\n",
    "                              '% White 2014-15','% Non-white 2016-17','% White 2016-17','PK-12 Enrollment 2014-15', \n",
    "                              'PK-12 Enrollment 2016-17','% living in School Ward 2016-17',\n",
    "                              '% Change in Race/Ethnic Group between 2014-15 and 2016-17',\n",
    "                              '% Change in Economic Group between 2014-15 and 2016-17']]\n",
    "\n",
    "#reset dataframe index\n",
    "new_student_df = new_student_df.reset_index(drop=True)\n",
    "\n",
    "#preview data\n",
    "new_student_df.head()"
   ]
  },
  {
   "cell_type": "code",
   "execution_count": null,
   "metadata": {},
   "outputs": [],
   "source": [
    "# Sort #1: sort data by ward and sector"
   ]
  },
  {
   "cell_type": "code",
   "execution_count": null,
   "metadata": {},
   "outputs": [],
   "source": [
    "#sort student data by ward and sector\n",
    "sorted_ward_sector = new_student_df.sort_values(['School Ward 2016-17','Sector']).reset_index(drop=True)\n",
    "\n",
    "#preview data\n",
    "sorted_ward_sector.head()"
   ]
  },
  {
   "cell_type": "code",
   "execution_count": null,
   "metadata": {},
   "outputs": [],
   "source": [
    "# Remove rows with missing data\n",
    "clean_ward_sector_df = sorted_ward_sector.dropna(how=\"any\")\n",
    "\n",
    "#review column row counts\n",
    "clean_ward_sector_df.count()"
   ]
  },
  {
   "cell_type": "code",
   "execution_count": null,
   "metadata": {},
   "outputs": [],
   "source": [
    "# Sort #2: sort data by sector and ward"
   ]
  },
  {
   "cell_type": "code",
   "execution_count": null,
   "metadata": {},
   "outputs": [],
   "source": [
    "#sort student data by sector and ward and reset the data index\n",
    "sorted_sector_ward = new_student_df.sort_values(['Sector','School Ward 2016-17']).reset_index(drop=True)\n",
    "\n",
    "\n",
    "#preview the data\n",
    "sorted_sector_ward.head()"
   ]
  },
  {
   "cell_type": "code",
   "execution_count": null,
   "metadata": {},
   "outputs": [],
   "source": [
    "# Remove the rows with missing data\n",
    "clean_sector_ward_df = sorted_sector_ward.dropna(how=\"any\")\n",
    "\n",
    "#review column row counts\n",
    "clean_sector_ward_df.count()"
   ]
  },
  {
   "cell_type": "code",
   "execution_count": null,
   "metadata": {},
   "outputs": [],
   "source": [
    "clean_sector_ward_df.dtypes"
   ]
  },
  {
   "cell_type": "code",
   "execution_count": null,
   "metadata": {},
   "outputs": [],
   "source": [
    "ward1 = (clean_sector_ward_df.groupby(['School Ward 2016-17', '% living in School Ward 2016-17'], as_index=False).mean()\n",
    "            .groupby('School Ward 2016-17')['% living in School Ward 2016-17'].mean())\n",
    "ward1"
   ]
  },
  {
   "cell_type": "code",
   "execution_count": null,
   "metadata": {},
   "outputs": [],
   "source": [
    "%matplotlib notebook\n",
    "from matplotlib import pyplot as plt\n",
    "ax = ward1.plot.bar(x='School Ward 2016-17', y='% living in School Ward 2016-17', rot=0)"
   ]
  },
  {
   "cell_type": "code",
   "execution_count": null,
   "metadata": {},
   "outputs": [],
   "source": [
    "plt.title(\"Percent enrolled living in same ward\")\n",
    "plt.xlabel(\"School Ward\")\n",
    "plt.ylabel(\"Percent living in ward of school\")"
   ]
  },
  {
   "cell_type": "code",
   "execution_count": null,
   "metadata": {},
   "outputs": [],
   "source": [
    "plt.savefig(r\"C:\\Users\\tommy\\OneDrive\\Documents\\Project 1\\LivingInWard.png\")"
   ]
  },
  {
   "cell_type": "code",
   "execution_count": null,
   "metadata": {},
   "outputs": [],
   "source": []
  }
 ],
 "metadata": {
  "kernelspec": {
   "display_name": "Python 3",
   "language": "python",
   "name": "python3"
  },
  "language_info": {
   "codemirror_mode": {
    "name": "ipython",
    "version": 3
   },
   "file_extension": ".py",
   "mimetype": "text/x-python",
   "name": "python",
   "nbconvert_exporter": "python",
   "pygments_lexer": "ipython3",
   "version": "3.7.3"
  }
 },
 "nbformat": 4,
 "nbformat_minor": 2
}
