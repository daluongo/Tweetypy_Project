{
 "cells": [
  {
   "cell_type": "code",
   "execution_count": 1,
   "metadata": {},
   "outputs": [],
   "source": [
    "#Housing Bar Graph"
   ]
  },
  {
   "cell_type": "code",
   "execution_count": 2,
   "metadata": {},
   "outputs": [],
   "source": [
    "import matplotlib.pyplot as plt\n",
    "import numpy as np"
   ]
  },
  {
   "cell_type": "code",
   "execution_count": 3,
   "metadata": {},
   "outputs": [],
   "source": [
    "pctchange = [418.64, 160, 157.69, 314.04, 338.81, 375.23, 221.31, 200.08]\n",
    "x_axis = np.arange(len(pctchange))"
   ]
  },
  {
   "cell_type": "code",
   "execution_count": 4,
   "metadata": {},
   "outputs": [
    {
     "data": {
      "image/png": "[encoded data removed]",
      "text/plain": [
       "<Figure size 432x288 with 1 Axes>"
      ]
     },
     "metadata": {
      "needs_background": "light"
     },
     "output_type": "display_data"
    }
   ],
   "source": [
    "plt.bar(x_axis, pctchange, color='r', alpha=0.5, align=\"center\")\n",
    "plt.ylim(-10, max(pctchange)+30)\n",
    "plt.title(\"Percent Change in Average Housing Price by Ward 2000-2016\")\n",
    "plt.xlabel(\"Ward in DC\")\n",
    "plt.ylabel(\"Percent Change in Housing Price\")\n",
    "plt.savefig(\"IncomeBar.png\")\n",
    "tick_locations = [value for value in x_axis]\n",
    "plt.xticks(tick_locations, [\"Ward 1\", \"Ward 2\", \"Ward 3\", \"Ward 4\", \"Ward 5\", \"Ward 6\", \"Ward 7\", \"Ward 8\"])\n",
    "plt.savefig(\"housingbar.png\")\n",
    "plt.show()"
   ]
  },
  {
   "cell_type": "code",
   "execution_count": 5,
   "metadata": {},
   "outputs": [],
   "source": [
    "# Income Bar Chart"
   ]
  },
  {
   "cell_type": "code",
   "execution_count": 6,
   "metadata": {},
   "outputs": [],
   "source": [
    "import matplotlib.pyplot as plt\n",
    "import numpy as np"
   ]
  },
  {
   "cell_type": "code",
   "execution_count": 7,
   "metadata": {},
   "outputs": [],
   "source": [
    "# Create an array that percentage change of income per ward, from 2000-2016. \n",
    "pctchange = [60.94, 6.95, 4.68, 19.66, 24.35, 71.38, -3.90, 1.83]\n",
    "x_axis = np.arange(len(pctchange))"
   ]
  },
  {
   "cell_type": "code",
   "execution_count": 8,
   "metadata": {},
   "outputs": [
    {
     "data": {
      "image/png": "[encoded data removed]",
      "text/plain": [
       "<Figure size 432x288 with 1 Axes>"
      ]
     },
     "metadata": {
      "needs_background": "light"
     },
     "output_type": "display_data"
    }
   ],
   "source": [
    "# Tell matplotlib that we will be making a bar chart\n",
    "# PctChangAvgIncome is our y axis and Wards is, our x axis\n",
    "# We apply align=\"edge\" to ensure our bars line up with our tick marks\n",
    "plt.bar(x_axis, pctchange, color='r', alpha=0.5, align=\"center\")\n",
    "plt.ylim(-10, max(pctchange)+30)\n",
    "plt.title(\"Percent Change in Income by Ward 2000-2016\")\n",
    "plt.xlabel(\"Ward in DC\")\n",
    "plt.ylabel(\"Percent Change in Income\")\n",
    "plt.savefig(\"IncomeBar.png\")\n",
    "tick_locations = [value for value in x_axis]\n",
    "plt.xticks(tick_locations, [\"Ward 1\", \"Ward 2\", \"Ward 3\", \"Ward 4\", \"Ward 5\", \"Ward 6\", \"Ward 7\", \"Ward 8\"])\n",
    "plt.savefig(\"incomebar.png\")\n",
    "plt.show()"
   ]
  },
  {
   "cell_type": "code",
   "execution_count": 9,
   "metadata": {},
   "outputs": [],
   "source": [
    "# Charter vs. Public School Pie Charts"
   ]
  },
  {
   "cell_type": "code",
   "execution_count": null,
   "metadata": {},
   "outputs": [],
   "source": [
    "# Dependencies\n",
    "%matplotlib inline\n",
    "import matplotlib.pyplot as plt\n",
    "import pandas as pd\n",
    "import numpy as np"
   ]
  },
  {
   "cell_type": "code",
   "execution_count": null,
   "metadata": {},
   "outputs": [],
   "source": [
    "csv_path = \"output/studentbyward.csv\""
   ]
  },
  {
   "cell_type": "code",
   "execution_count": null,
   "metadata": {},
   "outputs": [],
   "source": [
    "# Read with pandas into dataframe\n",
    "studentbyward_df = pd.read_csv(csv_path, encoding = 'iso-8859-1', low_memory=False)\n",
    "\n",
    "# Inspect all columns\n",
    "list(studentbyward_df.columns)"
   ]
  },
  {
   "cell_type": "code",
   "execution_count": null,
   "metadata": {},
   "outputs": [],
   "source": [
    "# sum enrollment for 2014-15 and 2016-17\n",
    "\n",
    "studentbyward_df['Enrollment'] = studentbyward_df['PK-12 Enrollment 2014-15'] + studentbyward_df['PK-12 Enrollment 2016-17']            \n",
    "# Slide data\n",
    "sub_studentbyward_df = studentbyward_df.iloc[:,[0, 1, 2, 3, 13]]\n",
    "\n",
    "#preview data\n",
    "sub_studentbyward_df.head(10)"
   ]
  },
  {
   "cell_type": "code",
   "execution_count": null,
   "metadata": {},
   "outputs": [],
   "source": [
    "#Ward 1 Analysis\n",
    "#Slide data for Ward 1\n",
    "array = ['Ward 1']\n",
    "ward1_df = sub_studentbyward_df.loc[sub_studentbyward_df['School Ward 2016-17'].isin(array)]\n",
    "ward1_df.head()"
   ]
  },
  {
   "cell_type": "code",
   "execution_count": null,
   "metadata": {},
   "outputs": [],
   "source": [
    "#group ward 1 data by sector for data visualization\n",
    "grouped_ward1_df = ward1_df.groupby(['Sector'])\n",
    "pie_ward1_df = grouped_ward1_df.sum()\n",
    "pie_ward1_df"
   ]
  },
  {
   "cell_type": "code",
   "execution_count": null,
   "metadata": {},
   "outputs": [],
   "source": [
    "# Create Ward 1 pie chart, set color, size, and percent\n",
    "\n",
    "colors = [\"lightcoral\", \"lightskyblue\"]\n",
    "ward1plot = pie_ward1_df.plot.pie(y='Enrollment', autopct=\"%1.2f%%\", colors = colors, figsize=(10, 10))\n",
    "# Create title, save output png file\n",
    "plt.title(\"Ward 1 Charter vs. Public schools\")\n",
    "plt.savefig(\"output/ward1pie.png\")\n",
    "plt.show()"
   ]
  },
  {
   "cell_type": "code",
   "execution_count": null,
   "metadata": {},
   "outputs": [],
   "source": [
    "#Ward 2 Analysis\n",
    "#Slide data for Ward 6\n",
    "array = ['Ward 6']\n",
    "ward6_df = sub_studentbyward_df.loc[sub_studentbyward_df['School Ward 2016-17'].isin(array)]\n",
    "ward6_df.head()"
   ]
  },
  {
   "cell_type": "code",
   "execution_count": null,
   "metadata": {},
   "outputs": [],
   "source": [
    "#Group Ward 6 data by sector for data visualization\n",
    "grouped_ward6_df = ward6_df.groupby(['Sector'])\n",
    "pie_ward6_df = grouped_ward6_df.sum()\n",
    "pie_ward6_df"
   ]
  },
  {
   "cell_type": "code",
   "execution_count": null,
   "metadata": {},
   "outputs": [],
   "source": [
    "# Create Ward 3 pie chart, set color, size, and percent\n",
    "ward6plot = pie_ward6_df.plot.pie(y='Enrollment', autopct=\"%1.2f%%\", colors = colors, figsize=(10, 10))\n",
    "plt.title(\"Ward 6 Charter vs. Public schools\")\n",
    "# Create title, save output png file\n",
    "plt.savefig(\"output/ward6pie.png\")\n",
    "plt.show()"
   ]
  },
  {
   "cell_type": "code",
   "execution_count": null,
   "metadata": {},
   "outputs": [],
   "source": [
    "#Ward 3 Analysis\n",
    "#Slide data for Ward 3\n",
    "array = ['Ward 3']\n",
    "ward3_df = sub_studentbyward_df.loc[sub_studentbyward_df['School Ward 2016-17'].isin(array)]\n",
    "ward3_df.head()"
   ]
  },
  {
   "cell_type": "code",
   "execution_count": null,
   "metadata": {},
   "outputs": [],
   "source": [
    "#Group Ward 3 data by sector for data visualization\n",
    "\n",
    "grouped_ward3_df = ward3_df.groupby(['Sector'])\n",
    "pie_ward3_df = grouped_ward3_df.sum()\n",
    "pie_ward3_df"
   ]
  },
  {
   "cell_type": "code",
   "execution_count": null,
   "metadata": {},
   "outputs": [],
   "source": [
    "# Create Ward 6 pie chart, set color, size, and percent\n",
    "color = [\"lightskyblue\"]\n",
    "ward3plot = pie_ward3_df.plot.pie(y='Enrollment', autopct=\"%1.2f%%\", colors = color, figsize=(10, 10))\n",
    "# Create title, save output png file\n",
    "plt.title(\"Ward 3 Charter vs. Public schools\")\n",
    "plt.savefig(\"output/ward3pie.png\")\n",
    "plt.show()"
   ]
  },
  {
   "cell_type": "code",
   "execution_count": null,
   "metadata": {},
   "outputs": [],
   "source": [
    "# Gentrification"
   ]
  },
  {
   "cell_type": "code",
   "execution_count": null,
   "metadata": {},
   "outputs": [],
   "source": [
    "# Dependencies\n",
    "import pandas as pd"
   ]
  },
  {
   "cell_type": "code",
   "execution_count": null,
   "metadata": {},
   "outputs": [],
   "source": [
    "# load CSV\n",
    "csv_path = \"landscape-diversity-data.xlsx\""
   ]
  },
  {
   "cell_type": "code",
   "execution_count": null,
   "metadata": {},
   "outputs": [],
   "source": [
    "# Read with pandas into dataframe\n",
    "student_df = pd.read_excel(csv_path, encoding = 'iso-8859-1')\n",
    "\n",
    "# Inspect all columns\n",
    "list(student_df.columns)"
   ]
  },
  {
   "cell_type": "code",
   "execution_count": null,
   "metadata": {},
   "outputs": [],
   "source": [
    "# Select subset of student data  \n",
    "sub_student_df = student_df.iloc[:,[1, 2, 3, 4, 12, 13, 14, 15, 17, 18, 19, 20, 29, 33, 43, 45, 46]]\n",
    "sub_student_df.head()"
   ]
  },
  {
   "cell_type": "code",
   "execution_count": null,
   "metadata": {},
   "outputs": [],
   "source": [
    "# sum non-white percentages for 2014-15 and 2016-17\n",
    "\n",
    "sub_student_df = sub_student_df.copy()  \n",
    "\n",
    "sub_student_df['% Non-white 2014-15'] = sub_student_df['Percent African American, 2014-15']\\\n",
    "                                   + sub_student_df['Percent Latino, 2014-15']\\\n",
    "                                   + sub_student_df['Percent other, 2014-15']\n",
    "\n",
    "sub_student_df['% Non-white 2016-17'] = sub_student_df['Percent African American, 2016-17']\\\n",
    "                                   + sub_student_df['Percent Latino, 2016-17']\\\n",
    "                                   + sub_student_df['Percent other, 2016-17']              \n",
    "\n",
    "\n",
    "#relable column headers\n",
    "sub_student_df.rename(columns={\"School Ward, 2016-17\": \"School Ward 2016-17\",\n",
    "                              \"Percent white, 2014-15\": \"% White 2014-15\",\n",
    "                              \"Percent white, 2016-17\": \"% White 2016-17\",\n",
    "                              \"Enrollment in PK-12, 2014-15\":\"PK-12 Enrollment 2014-15\", \n",
    "                              \"Enrollment in PK-12, 2016-17\":\"PK-12 Enrollment 2016-17\", \n",
    "                              \"Percent living in Ward of school, 2016-17\":\"% living in School Ward 2016-17\", \n",
    "                              \"Change in race and ethnicity plurality group, 2014-15 to 2016-17\": \n",
    "                              \"% Change in Race/Ethnic Group between 2014-15 and 2016-17\",\n",
    "                              \"Change in economic plurality group, 2014-15 to 2016-17\":\n",
    "                              \"% Change in Economic Group between 2014-15 and 2016-17\"}, inplace = True)\n",
    "\n",
    "#preview data\n",
    "sub_student_df.head()"
   ]
  },
  {
   "cell_type": "code",
   "execution_count": null,
   "metadata": {},
   "outputs": [],
   "source": [
    "#create new data frame with revised columns\n",
    "new_student_df=sub_student_df[['School Ward 2016-17', 'Sector', 'School name', 'Grade band', '% Non-white 2014-15',\n",
    "                              '% White 2014-15','% Non-white 2016-17','% White 2016-17','PK-12 Enrollment 2014-15', \n",
    "                              'PK-12 Enrollment 2016-17','% living in School Ward 2016-17',\n",
    "                              '% Change in Race/Ethnic Group between 2014-15 and 2016-17',\n",
    "                              '% Change in Economic Group between 2014-15 and 2016-17']]\n",
    "\n",
    "#reset dataframe index\n",
    "new_student_df = new_student_df.reset_index(drop=True)\n",
    "\n",
    "#preview data\n",
    "new_student_df.head()"
   ]
  },
  {
   "cell_type": "code",
   "execution_count": null,
   "metadata": {},
   "outputs": [],
   "source": [
    "# Sort #1: sort data by ward and sector"
   ]
  },
  {
   "cell_type": "code",
   "execution_count": null,
   "metadata": {},
   "outputs": [],
   "source": [
    "#sort student data by ward and sector\n",
    "sorted_ward_sector = new_student_df.sort_values(['School Ward 2016-17','Sector']).reset_index(drop=True)\n",
    "\n",
    "#preview data\n",
    "sorted_ward_sector.head()"
   ]
  },
  {
   "cell_type": "code",
   "execution_count": null,
   "metadata": {},
   "outputs": [],
   "source": [
    "# Remove rows with missing data\n",
    "clean_ward_sector_df = sorted_ward_sector.dropna(how=\"any\")\n",
    "\n",
    "#review column row counts\n",
    "clean_ward_sector_df.count()"
   ]
  },
  {
   "cell_type": "code",
   "execution_count": null,
   "metadata": {},
   "outputs": [],
   "source": [
    "# Sort #2: sort data by sector and ward"
   ]
  },
  {
   "cell_type": "code",
   "execution_count": null,
   "metadata": {},
   "outputs": [],
   "source": [
    "#sort student data by sector and ward and reset the data index\n",
    "sorted_sector_ward = new_student_df.sort_values(['Sector','School Ward 2016-17']).reset_index(drop=True)\n",
    "\n",
    "\n",
    "#preview the data\n",
    "sorted_sector_ward.head()"
   ]
  },
  {
   "cell_type": "code",
   "execution_count": null,
   "metadata": {},
   "outputs": [],
   "source": [
    "# Remove the rows with missing data\n",
    "clean_sector_ward_df = sorted_sector_ward.dropna(how=\"any\")\n",
    "\n",
    "#review column row counts\n",
    "clean_sector_ward_df.count()"
   ]
  },
  {
   "cell_type": "code",
   "execution_count": null,
   "metadata": {},
   "outputs": [],
   "source": [
    "clean_sector_ward_df.dtypes"
   ]
  },
  {
   "cell_type": "code",
   "execution_count": null,
   "metadata": {},
   "outputs": [],
   "source": [
    "ward1 = (clean_sector_ward_df.groupby(['School Ward 2016-17', '% living in School Ward 2016-17'], as_index=False).mean()\n",
    "            .groupby('School Ward 2016-17')['% living in School Ward 2016-17'].mean())\n",
    "ward1"
   ]
  },
  {
   "cell_type": "code",
   "execution_count": null,
   "metadata": {},
   "outputs": [],
   "source": [
    "%matplotlib notebook\n",
    "from matplotlib import pyplot as plt\n",
    "ax = ward1.plot.bar(x='School Ward 2016-17', y='% living in School Ward 2016-17', rot=0)"
   ]
  },
  {
   "cell_type": "code",
   "execution_count": null,
   "metadata": {},
   "outputs": [],
   "source": [
    "plt.title(\"Percent enrolled living in same ward\")\n",
    "plt.xlabel(\"School Ward\")\n",
    "plt.ylabel(\"Percent living in ward of school\")"
   ]
  },
  {
   "cell_type": "code",
   "execution_count": null,
   "metadata": {},
   "outputs": [],
   "source": [
    "plt.savefig(r\"C:\\Users\\tommy\\OneDrive\\Documents\\Project 1\\LivingInWard.png\")"
   ]
  },
  {
   "cell_type": "code",
   "execution_count": null,
   "metadata": {},
   "outputs": [],
   "source": [
    "# Heat Maps"
   ]
  },
  {
   "cell_type": "code",
   "execution_count": 10,
   "metadata": {},
   "outputs": [
    {
     "ename": "ModuleNotFoundError",
     "evalue": "No module named 'geopandas'",
     "output_type": "error",
     "traceback": [
      "\u001b[0;31m---------------------------------------------------------------------------\u001b[0m",
      "\u001b[0;31mModuleNotFoundError\u001b[0m                       Traceback (most recent call last)",
      "\u001b[0;32m<ipython-input-10-61b1fdefe607>\u001b[0m in \u001b[0;36m<module>\u001b[0;34m\u001b[0m\n\u001b[1;32m      4\u001b[0m \u001b[0;32mimport\u001b[0m \u001b[0mmatplotlib\u001b[0m\u001b[0;34m.\u001b[0m\u001b[0mpyplot\u001b[0m \u001b[0;32mas\u001b[0m \u001b[0mplt\u001b[0m\u001b[0;34m\u001b[0m\u001b[0;34m\u001b[0m\u001b[0m\n\u001b[1;32m      5\u001b[0m \u001b[0;32mimport\u001b[0m \u001b[0mpandas\u001b[0m \u001b[0;32mas\u001b[0m \u001b[0mpd\u001b[0m\u001b[0;34m\u001b[0m\u001b[0;34m\u001b[0m\u001b[0m\n\u001b[0;32m----> 6\u001b[0;31m \u001b[0;32mimport\u001b[0m \u001b[0mgeopandas\u001b[0m \u001b[0;32mas\u001b[0m \u001b[0mgpd\u001b[0m\u001b[0;34m\u001b[0m\u001b[0;34m\u001b[0m\u001b[0m\n\u001b[0m\u001b[1;32m      7\u001b[0m \u001b[0;32mimport\u001b[0m \u001b[0mfiona\u001b[0m\u001b[0;34m\u001b[0m\u001b[0;34m\u001b[0m\u001b[0m\n\u001b[1;32m      8\u001b[0m \u001b[0;32mimport\u001b[0m \u001b[0mdescartes\u001b[0m\u001b[0;34m\u001b[0m\u001b[0;34m\u001b[0m\u001b[0m\n",
      "\u001b[0;31mModuleNotFoundError\u001b[0m: No module named 'geopandas'"
     ]
    }
   ],
   "source": [
    "#import dependencies \n",
    "\n",
    "import numpy as np\n",
    "import matplotlib.pyplot as plt\n",
    "import pandas as pd\n",
    "import geopandas as gpd\n",
    "import fiona\n",
    "import descartes"
   ]
  },
  {
   "cell_type": "code",
   "execution_count": 12,
   "metadata": {},
   "outputs": [
    {
     "ename": "FileNotFoundError",
     "evalue": "[Errno 2] File b'income_data.csv' does not exist: b'income_data.csv'",
     "output_type": "error",
     "traceback": [
      "\u001b[0;31m---------------------------------------------------------------------------\u001b[0m",
      "\u001b[0;31mFileNotFoundError\u001b[0m                         Traceback (most recent call last)",
      "\u001b[0;32m<ipython-input-12-11f763ae225f>\u001b[0m in \u001b[0;36m<module>\u001b[0;34m\u001b[0m\n\u001b[1;32m      3\u001b[0m \u001b[0;34m\u001b[0m\u001b[0m\n\u001b[1;32m      4\u001b[0m \u001b[0moriginal_path\u001b[0m \u001b[0;34m=\u001b[0m \u001b[0;34m\"income_data.csv\"\u001b[0m\u001b[0;34m\u001b[0m\u001b[0;34m\u001b[0m\u001b[0m\n\u001b[0;32m----> 5\u001b[0;31m \u001b[0mincome_data\u001b[0m \u001b[0;34m=\u001b[0m \u001b[0mpd\u001b[0m\u001b[0;34m.\u001b[0m\u001b[0mread_csv\u001b[0m\u001b[0;34m(\u001b[0m\u001b[0moriginal_path\u001b[0m\u001b[0;34m,\u001b[0m \u001b[0mencoding\u001b[0m\u001b[0;34m=\u001b[0m\u001b[0;34m\"utf-8\"\u001b[0m\u001b[0;34m)\u001b[0m\u001b[0;34m\u001b[0m\u001b[0;34m\u001b[0m\u001b[0m\n\u001b[0m\u001b[1;32m      6\u001b[0m \u001b[0mincome_data\u001b[0m\u001b[0;34m.\u001b[0m\u001b[0mhead\u001b[0m\u001b[0;34m(\u001b[0m\u001b[0;34m)\u001b[0m\u001b[0;34m\u001b[0m\u001b[0;34m\u001b[0m\u001b[0m\n",
      "\u001b[0;32m/Users/NickMourtoupalas/anaconda3/lib/python3.7/site-packages/pandas/io/parsers.py\u001b[0m in \u001b[0;36mparser_f\u001b[0;34m(filepath_or_buffer, sep, delimiter, header, names, index_col, usecols, squeeze, prefix, mangle_dupe_cols, dtype, engine, converters, true_values, false_values, skipinitialspace, skiprows, skipfooter, nrows, na_values, keep_default_na, na_filter, verbose, skip_blank_lines, parse_dates, infer_datetime_format, keep_date_col, date_parser, dayfirst, iterator, chunksize, compression, thousands, decimal, lineterminator, quotechar, quoting, doublequote, escapechar, comment, encoding, dialect, tupleize_cols, error_bad_lines, warn_bad_lines, delim_whitespace, low_memory, memory_map, float_precision)\u001b[0m\n\u001b[1;32m    700\u001b[0m                     skip_blank_lines=skip_blank_lines)\n\u001b[1;32m    701\u001b[0m \u001b[0;34m\u001b[0m\u001b[0m\n\u001b[0;32m--> 702\u001b[0;31m         \u001b[0;32mreturn\u001b[0m \u001b[0m_read\u001b[0m\u001b[0;34m(\u001b[0m\u001b[0mfilepath_or_buffer\u001b[0m\u001b[0;34m,\u001b[0m \u001b[0mkwds\u001b[0m\u001b[0;34m)\u001b[0m\u001b[0;34m\u001b[0m\u001b[0;34m\u001b[0m\u001b[0m\n\u001b[0m\u001b[1;32m    703\u001b[0m \u001b[0;34m\u001b[0m\u001b[0m\n\u001b[1;32m    704\u001b[0m     \u001b[0mparser_f\u001b[0m\u001b[0;34m.\u001b[0m\u001b[0m__name__\u001b[0m \u001b[0;34m=\u001b[0m \u001b[0mname\u001b[0m\u001b[0;34m\u001b[0m\u001b[0;34m\u001b[0m\u001b[0m\n",
      "\u001b[0;32m/Users/NickMourtoupalas/anaconda3/lib/python3.7/site-packages/pandas/io/parsers.py\u001b[0m in \u001b[0;36m_read\u001b[0;34m(filepath_or_buffer, kwds)\u001b[0m\n\u001b[1;32m    427\u001b[0m \u001b[0;34m\u001b[0m\u001b[0m\n\u001b[1;32m    428\u001b[0m     \u001b[0;31m# Create the parser.\u001b[0m\u001b[0;34m\u001b[0m\u001b[0;34m\u001b[0m\u001b[0;34m\u001b[0m\u001b[0m\n\u001b[0;32m--> 429\u001b[0;31m     \u001b[0mparser\u001b[0m \u001b[0;34m=\u001b[0m \u001b[0mTextFileReader\u001b[0m\u001b[0;34m(\u001b[0m\u001b[0mfilepath_or_buffer\u001b[0m\u001b[0;34m,\u001b[0m \u001b[0;34m**\u001b[0m\u001b[0mkwds\u001b[0m\u001b[0;34m)\u001b[0m\u001b[0;34m\u001b[0m\u001b[0;34m\u001b[0m\u001b[0m\n\u001b[0m\u001b[1;32m    430\u001b[0m \u001b[0;34m\u001b[0m\u001b[0m\n\u001b[1;32m    431\u001b[0m     \u001b[0;32mif\u001b[0m \u001b[0mchunksize\u001b[0m \u001b[0;32mor\u001b[0m \u001b[0miterator\u001b[0m\u001b[0;34m:\u001b[0m\u001b[0;34m\u001b[0m\u001b[0;34m\u001b[0m\u001b[0m\n",
      "\u001b[0;32m/Users/NickMourtoupalas/anaconda3/lib/python3.7/site-packages/pandas/io/parsers.py\u001b[0m in \u001b[0;36m__init__\u001b[0;34m(self, f, engine, **kwds)\u001b[0m\n\u001b[1;32m    893\u001b[0m             \u001b[0mself\u001b[0m\u001b[0;34m.\u001b[0m\u001b[0moptions\u001b[0m\u001b[0;34m[\u001b[0m\u001b[0;34m'has_index_names'\u001b[0m\u001b[0;34m]\u001b[0m \u001b[0;34m=\u001b[0m \u001b[0mkwds\u001b[0m\u001b[0;34m[\u001b[0m\u001b[0;34m'has_index_names'\u001b[0m\u001b[0;34m]\u001b[0m\u001b[0;34m\u001b[0m\u001b[0;34m\u001b[0m\u001b[0m\n\u001b[1;32m    894\u001b[0m \u001b[0;34m\u001b[0m\u001b[0m\n\u001b[0;32m--> 895\u001b[0;31m         \u001b[0mself\u001b[0m\u001b[0;34m.\u001b[0m\u001b[0m_make_engine\u001b[0m\u001b[0;34m(\u001b[0m\u001b[0mself\u001b[0m\u001b[0;34m.\u001b[0m\u001b[0mengine\u001b[0m\u001b[0;34m)\u001b[0m\u001b[0;34m\u001b[0m\u001b[0;34m\u001b[0m\u001b[0m\n\u001b[0m\u001b[1;32m    896\u001b[0m \u001b[0;34m\u001b[0m\u001b[0m\n\u001b[1;32m    897\u001b[0m     \u001b[0;32mdef\u001b[0m \u001b[0mclose\u001b[0m\u001b[0;34m(\u001b[0m\u001b[0mself\u001b[0m\u001b[0;34m)\u001b[0m\u001b[0;34m:\u001b[0m\u001b[0;34m\u001b[0m\u001b[0;34m\u001b[0m\u001b[0m\n",
      "\u001b[0;32m/Users/NickMourtoupalas/anaconda3/lib/python3.7/site-packages/pandas/io/parsers.py\u001b[0m in \u001b[0;36m_make_engine\u001b[0;34m(self, engine)\u001b[0m\n\u001b[1;32m   1120\u001b[0m     \u001b[0;32mdef\u001b[0m \u001b[0m_make_engine\u001b[0m\u001b[0;34m(\u001b[0m\u001b[0mself\u001b[0m\u001b[0;34m,\u001b[0m \u001b[0mengine\u001b[0m\u001b[0;34m=\u001b[0m\u001b[0;34m'c'\u001b[0m\u001b[0;34m)\u001b[0m\u001b[0;34m:\u001b[0m\u001b[0;34m\u001b[0m\u001b[0;34m\u001b[0m\u001b[0m\n\u001b[1;32m   1121\u001b[0m         \u001b[0;32mif\u001b[0m \u001b[0mengine\u001b[0m \u001b[0;34m==\u001b[0m \u001b[0;34m'c'\u001b[0m\u001b[0;34m:\u001b[0m\u001b[0;34m\u001b[0m\u001b[0;34m\u001b[0m\u001b[0m\n\u001b[0;32m-> 1122\u001b[0;31m             \u001b[0mself\u001b[0m\u001b[0;34m.\u001b[0m\u001b[0m_engine\u001b[0m \u001b[0;34m=\u001b[0m \u001b[0mCParserWrapper\u001b[0m\u001b[0;34m(\u001b[0m\u001b[0mself\u001b[0m\u001b[0;34m.\u001b[0m\u001b[0mf\u001b[0m\u001b[0;34m,\u001b[0m \u001b[0;34m**\u001b[0m\u001b[0mself\u001b[0m\u001b[0;34m.\u001b[0m\u001b[0moptions\u001b[0m\u001b[0;34m)\u001b[0m\u001b[0;34m\u001b[0m\u001b[0;34m\u001b[0m\u001b[0m\n\u001b[0m\u001b[1;32m   1123\u001b[0m         \u001b[0;32melse\u001b[0m\u001b[0;34m:\u001b[0m\u001b[0;34m\u001b[0m\u001b[0;34m\u001b[0m\u001b[0m\n\u001b[1;32m   1124\u001b[0m             \u001b[0;32mif\u001b[0m \u001b[0mengine\u001b[0m \u001b[0;34m==\u001b[0m \u001b[0;34m'python'\u001b[0m\u001b[0;34m:\u001b[0m\u001b[0;34m\u001b[0m\u001b[0;34m\u001b[0m\u001b[0m\n",
      "\u001b[0;32m/Users/NickMourtoupalas/anaconda3/lib/python3.7/site-packages/pandas/io/parsers.py\u001b[0m in \u001b[0;36m__init__\u001b[0;34m(self, src, **kwds)\u001b[0m\n\u001b[1;32m   1851\u001b[0m         \u001b[0mkwds\u001b[0m\u001b[0;34m[\u001b[0m\u001b[0;34m'usecols'\u001b[0m\u001b[0;34m]\u001b[0m \u001b[0;34m=\u001b[0m \u001b[0mself\u001b[0m\u001b[0;34m.\u001b[0m\u001b[0musecols\u001b[0m\u001b[0;34m\u001b[0m\u001b[0;34m\u001b[0m\u001b[0m\n\u001b[1;32m   1852\u001b[0m \u001b[0;34m\u001b[0m\u001b[0m\n\u001b[0;32m-> 1853\u001b[0;31m         \u001b[0mself\u001b[0m\u001b[0;34m.\u001b[0m\u001b[0m_reader\u001b[0m \u001b[0;34m=\u001b[0m \u001b[0mparsers\u001b[0m\u001b[0;34m.\u001b[0m\u001b[0mTextReader\u001b[0m\u001b[0;34m(\u001b[0m\u001b[0msrc\u001b[0m\u001b[0;34m,\u001b[0m \u001b[0;34m**\u001b[0m\u001b[0mkwds\u001b[0m\u001b[0;34m)\u001b[0m\u001b[0;34m\u001b[0m\u001b[0;34m\u001b[0m\u001b[0m\n\u001b[0m\u001b[1;32m   1854\u001b[0m         \u001b[0mself\u001b[0m\u001b[0;34m.\u001b[0m\u001b[0munnamed_cols\u001b[0m \u001b[0;34m=\u001b[0m \u001b[0mself\u001b[0m\u001b[0;34m.\u001b[0m\u001b[0m_reader\u001b[0m\u001b[0;34m.\u001b[0m\u001b[0munnamed_cols\u001b[0m\u001b[0;34m\u001b[0m\u001b[0;34m\u001b[0m\u001b[0m\n\u001b[1;32m   1855\u001b[0m \u001b[0;34m\u001b[0m\u001b[0m\n",
      "\u001b[0;32mpandas/_libs/parsers.pyx\u001b[0m in \u001b[0;36mpandas._libs.parsers.TextReader.__cinit__\u001b[0;34m()\u001b[0m\n",
      "\u001b[0;32mpandas/_libs/parsers.pyx\u001b[0m in \u001b[0;36mpandas._libs.parsers.TextReader._setup_parser_source\u001b[0;34m()\u001b[0m\n",
      "\u001b[0;31mFileNotFoundError\u001b[0m: [Errno 2] File b'income_data.csv' does not exist: b'income_data.csv'"
     ]
    }
   ],
   "source": [
    "#read income csv as a dataframe\n",
    "#print dataframe\n",
    "\n",
    "original_path = \"income_data.csv\"\n",
    "income_data = pd.read_csv(original_path, encoding=\"utf-8\")\n",
    "income_data.head()"
   ]
  },
  {
   "cell_type": "code",
   "execution_count": 11,
   "metadata": {},
   "outputs": [
    {
     "ename": "NameError",
     "evalue": "name 'income_data' is not defined",
     "output_type": "error",
     "traceback": [
      "\u001b[0;31m---------------------------------------------------------------------------\u001b[0m",
      "\u001b[0;31mNameError\u001b[0m                                 Traceback (most recent call last)",
      "\u001b[0;32m<ipython-input-11-f9d9aace3c14>\u001b[0m in \u001b[0;36m<module>\u001b[0;34m\u001b[0m\n\u001b[1;32m      1\u001b[0m \u001b[0;31m#create clean dataframe only using timeframe, start date, end date, ward and percent change in average family income (adjusted)\u001b[0m\u001b[0;34m\u001b[0m\u001b[0;34m\u001b[0m\u001b[0;34m\u001b[0m\u001b[0m\n\u001b[0;32m----> 2\u001b[0;31m \u001b[0mincome_clean\u001b[0m \u001b[0;34m=\u001b[0m \u001b[0mincome_data\u001b[0m\u001b[0;34m.\u001b[0m\u001b[0miloc\u001b[0m\u001b[0;34m[\u001b[0m\u001b[0;34m[\u001b[0m\u001b[0;36m24\u001b[0m\u001b[0;34m,\u001b[0m\u001b[0;36m25\u001b[0m\u001b[0;34m,\u001b[0m\u001b[0;36m26\u001b[0m\u001b[0;34m,\u001b[0m\u001b[0;36m27\u001b[0m\u001b[0;34m,\u001b[0m\u001b[0;36m28\u001b[0m\u001b[0;34m,\u001b[0m\u001b[0;36m29\u001b[0m\u001b[0;34m,\u001b[0m\u001b[0;36m30\u001b[0m\u001b[0;34m,\u001b[0m\u001b[0;36m31\u001b[0m\u001b[0;34m]\u001b[0m\u001b[0;34m,\u001b[0m\u001b[0;34m[\u001b[0m\u001b[0;36m1\u001b[0m\u001b[0;34m,\u001b[0m\u001b[0;36m3\u001b[0m\u001b[0;34m,\u001b[0m\u001b[0;36m4\u001b[0m\u001b[0;34m,\u001b[0m\u001b[0;36m13\u001b[0m\u001b[0;34m]\u001b[0m\u001b[0;34m]\u001b[0m\u001b[0;34m\u001b[0m\u001b[0;34m\u001b[0m\u001b[0m\n\u001b[0m\u001b[1;32m      3\u001b[0m \u001b[0;34m\u001b[0m\u001b[0m\n\u001b[1;32m      4\u001b[0m \u001b[0;31m#rename columns\u001b[0m\u001b[0;34m\u001b[0m\u001b[0;34m\u001b[0m\u001b[0;34m\u001b[0m\u001b[0m\n\u001b[1;32m      5\u001b[0m income_clean = income_clean.rename(columns={\"timeframe\":\"Timeframe\",\n",
      "\u001b[0;31mNameError\u001b[0m: name 'income_data' is not defined"
     ]
    }
   ],
   "source": [
    "#create clean dataframe only using timeframe, start date, end date, ward and percent change in average family income (adjusted)\n",
    "income_clean = income_data.iloc[[24,25,26,27,28,29,30,31],[1,3,4,13]]\n",
    "\n",
    "#rename columns \n",
    "income_clean = income_clean.rename(columns={\"timeframe\":\"Timeframe\",\n",
    "                                            \"start_date\": \"Start Date\",\n",
    "                                            \"end_date\": \"End Date\",\n",
    "                                            \"ward2012\": \"Ward\", \n",
    "                                            \"PctChgAvgFamilyIncAdj\": \"% Change Avg. Family Income (Adjusted)\"})\n",
    "#preview new dataframe \n",
    "income_clean\n",
    "\n",
    "# income_clean[\"% Change Avg. Family Income (Adjusted)\"] = income_clean[\"% Change Avg. Family Income (Adjusted)\"].map(\"{:,.2f}%\".format)\n"
   ]
  },
  {
   "cell_type": "code",
   "execution_count": null,
   "metadata": {},
   "outputs": [],
   "source": [
    "#check data types for dataframe \n",
    "income_clean.dtypes"
   ]
  },
  {
   "cell_type": "code",
   "execution_count": null,
   "metadata": {},
   "outputs": [],
   "source": [
    "#read housing csv as a dataframe\n",
    "\n",
    "\n",
    "original_path = \"housing_data.csv\"\n",
    "housing_data = pd.read_csv(original_path, encoding=\"utf-8\")\n",
    "\n",
    "#print dataframe preview \n",
    "housing_data.head()"
   ]
  },
  {
   "cell_type": "code",
   "execution_count": null,
   "metadata": {},
   "outputs": [],
   "source": [
    "#clean housing data, only using timeframe, ward, start date, end date, and housing prices \n",
    "\n",
    "housing_clean = housing_data.iloc[[8,9,10,11,12,13,14,15,16,17,18,19,20,21,22,23],[0,1,5,6,12]]\n",
    "housing_clean = housing_clean.rename(columns={\"timeframe\":\"Timeframe\",\n",
    "                                              \"ward2012\": \"Ward\", \n",
    "                                              \"start_date\": \"Start Date\", \n",
    "                                              \"end_date\": \"End Date\", \n",
    "                                              \"mprice_sf\": \"Housing Prices\"})\n",
    "\n",
    "#print new dataframe \n",
    "housing_clean"
   ]
  },
  {
   "cell_type": "code",
   "execution_count": null,
   "metadata": {},
   "outputs": [],
   "source": [
    "#create a new dataframe using wards and the percent change in housing prices \n",
    "pct_change_df = housing_data.iloc[[8,9,10,11,12,13,14,15],[1,25]]\n",
    "pct_change_df = pct_change_df.rename(columns={\"ward2012\": \"Ward\",  \n",
    "                                              \"PctChgPrc\": \"% Change Housing Prices\"})\n",
    "pct_change_df[\"% Change Housing Prices\"] = pct_change_df[\"% Change Housing Prices\"].map(\"{:,.2f}%\".format)\n",
    "\n",
    "pct_change_df.reset_index()\n",
    "pct_change_df"
   ]
  },
  {
   "cell_type": "code",
   "execution_count": null,
   "metadata": {},
   "outputs": [],
   "source": [
    "#merge the income_clean and pct_change_df on Ward to have all the information in one data frame\n",
    "\n",
    "merged_df = pd.merge(income_clean, pct_change_df, on=\"Ward\")\n",
    "merged_df"
   ]
  },
  {
   "cell_type": "code",
   "execution_count": null,
   "metadata": {},
   "outputs": [],
   "source": [
    "#delete start date and end date to create dataframe we can convert to geopandas \n",
    "merged_df = merged_df[[\"Ward\", \"% Change Avg. Family Income (Adjusted)\", \"% Change Housing Prices\"]]\n",
    "merged_df.head()"
   ]
  },
  {
   "cell_type": "code",
   "execution_count": null,
   "metadata": {},
   "outputs": [],
   "source": [
    "# create initial map of dc \n",
    "# set the filepath and load in a shapefile\n",
    "fp = \"Ward_from_2012/Ward_from_2012.shp\"\n",
    "\n",
    "map_df = gpd.read_file(fp)\n",
    "\n",
    "# check data type so we can see that this is not a normal dataframe, but a GEOdataframe\n",
    "map_df.head()\n",
    "\n",
    "#pull only the columns we need\n",
    "map_df = map_df[['NAME', 'geometry']]\n",
    "map_df"
   ]
  },
  {
   "cell_type": "code",
   "execution_count": null,
   "metadata": {},
   "outputs": [],
   "source": [
    "map_df.plot()"
   ]
  },
  {
   "cell_type": "code",
   "execution_count": null,
   "metadata": {},
   "outputs": [],
   "source": [
    "#  join the geodataframe with the cleaned up csv dataframe\n",
    "\n",
    "merged = map_df.set_index(\"NAME\").join(merged_df.set_index(\"Ward\"))\n",
    "merged"
   ]
  },
  {
   "cell_type": "code",
   "execution_count": null,
   "metadata": {},
   "outputs": [],
   "source": [
    "#create variables to hold columns to plot \n",
    "\n",
    "var_1 = '% Change Avg. Family Income (Adjusted)'\n",
    "var_2 = '% Change Housing Prices'\n",
    "\n",
    "#set the range for the % Change Avg. Family Income (Adjusted)\n",
    "vmin, vmax = -5, 61\n",
    "\n",
    "#create figure and axes\n",
    "fig, ax = plt.subplots(1, figsize=(10,6))\n",
    "\n",
    "#create map of % Change Avg. Family Income (Adjusted)\n",
    "merged.plot(column=var_1, cmap='Reds', linewidth=0.8, ax=ax, edgecolor='0.8')\n",
    "\n",
    "#remove axis     \n",
    "ax.axis('off')\n",
    "\n",
    "#add a title and format it \n",
    "ax.set_title('Average Family Income (% change 2000-2016)', fontdict={'fontsize': '25', 'fontweight': '3'})\n",
    "\n",
    "#add data source information \n",
    "ax.annotate('Source: Open Data DC', xy=(0.1,.08),\n",
    "           xycoords='figure fraction',horizontalalignment='left',\n",
    "           verticalalignment='top',fontsize=12,color='Gray')\n",
    "\n",
    "#create legend - colorbar \n",
    "sm = plt.cm.ScalarMappable(cmap='Reds',norm=plt.Normalize(vmin=vmin,vmax=vmax))\n",
    "\n",
    "#WORK IN PROGRESS - MAP LABEL\n",
    "#set empty range \n",
    "# sm._A = []\n",
    "# ax = merged.plot\n",
    "# ax = merged.apply(lambda x: ax.annotate(s=merged.index, xy=x.geometry.centroid.coords[0])\n",
    "\n",
    "\n",
    "#add legend to plot \n",
    "cbar = fig.colorbar(sm)\n",
    "\n",
    "#save figure \n",
    "fig.savefig(\"income_export.png\", dpi=300)\n"
   ]
  },
  {
   "cell_type": "code",
   "execution_count": null,
   "metadata": {},
   "outputs": [],
   "source": [
    "#set the range for the % Change Housing Prices\n",
    "vmin, vmax = 0, 420\n",
    "\n",
    "#create figure and axes \n",
    "fig, ax = plt.subplots(1, figsize=(10,6))\n",
    "\n",
    "#plot map of % Change Housing Prices\n",
    "merged.plot(column=var_2, cmap='Blues', linewidth=0.8, ax=ax, edgecolor='0.8')\n",
    "\n",
    "#remove axes \n",
    "ax.axis('off')\n",
    "\n",
    "#create title and format\n",
    "ax.set_title('% Change Housing Prices', fontdict={'fontsize': '25', 'fontweight': '3'})\n",
    "\n",
    "#add source information \n",
    "ax.annotate('Source: Open Data DC', xy=(0.1,.08),\n",
    "           xycoords='figure fraction',horizontalalignment='left',\n",
    "           verticalalignment='top',fontsize=12,color='Gray')\n",
    "\n",
    "#create legend - color bar \n",
    "sm = plt.cm.ScalarMappable(cmap='Blues',norm=plt.Normalize(vmin=vmin,vmax=vmax))\n",
    "\n",
    "#WORK IN PROGRESS - MAP LABEL\n",
    "#set empty range \n",
    "# sm._A = []\n",
    "# ax = merged.plot\n",
    "# ax = merged.apply(lambda x: ax.annotate(s=merged.index, xy=x.geometry.centroid.coords[0])\n",
    "\n",
    "#add legend to map \n",
    "cbar = fig.colorbar(sm)\n",
    "\n",
    "#save figure \n",
    "fig.savefig(\"housing_export.png\", dpi=300)"
   ]
  },
  {
   "cell_type": "code",
   "execution_count": null,
   "metadata": {},
   "outputs": [],
   "source": []
  }
 ],
 "metadata": {
  "kernelspec": {
   "display_name": "Python 3",
   "language": "python",
   "name": "python3"
  },
  "language_info": {
   "codemirror_mode": {
    "name": "ipython",
    "version": 3
   },
   "file_extension": ".py",
   "mimetype": "text/x-python",
   "name": "python",
   "nbconvert_exporter": "python",
   "pygments_lexer": "ipython3",
   "version": "3.7.3"
  }
 },
 "nbformat": 4,
 "nbformat_minor": 2
}
