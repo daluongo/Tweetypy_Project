{
 "cells": [
  {
   "cell_type": "markdown",
   "metadata": {},
   "source": [
    "# Data Analysis Code for DC Gentrification Trends\n",
    "----\n",
    "### To be considered gentrified in DC, a Ward’s median household income and median home value needs to fall within the bottom 40th percentile of all ward’s within DC from the beginning of the decade.  \n",
    "\n",
    "### (For our analysis, we used data from 2000 and 2016)\n",
    "\n",
    "Analysis\n",
    "1. Wards in DC most affected by gentrification\n",
    "2. Kinds of schools (public vs charter) that make up these communities (wards)\n",
    "3. Gentrification and where students choose to enroll in school"
   ]
  },
  {
   "cell_type": "markdown",
   "metadata": {},
   "source": [
    "### important: must import geopandas (support for geographic data to pandas objects) to build heatmaps  \n",
    "\n",
    "to install geopandas... install the following in this order (good luck!)\n",
    "\n",
    "1. numpy\n",
    "2. GDAL\n",
    "3. gyshp\n",
    "4. shapley\n",
    "5. fiona\n",
    "6. geopy\n",
    "7. pyproj\n",
    "8. geopandas\n"
   ]
  },
  {
   "cell_type": "markdown",
   "metadata": {},
   "source": [
    "### Analysis #1: Which Wards in DC have been affected most by gentrification\n",
    "Demonstration:\n",
    "Housing and Income by Ward"
   ]
  },
  {
   "cell_type": "markdown",
   "metadata": {},
   "source": [
    "### 1a: Housing Bar Graph"
   ]
  },
  {
   "cell_type": "code",
   "execution_count": null,
   "metadata": {},
   "outputs": [],
   "source": [
    "pctchange = [418.64, 160, 157.69, 314.04, 338.81, 375.23, 221.31, 200.08]\n",
    "x_axis = np.arange(len(pctchange))"
   ]
  },
  {
   "cell_type": "code",
   "execution_count": null,
   "metadata": {},
   "outputs": [],
   "source": [
    "plt.bar(x_axis, pctchange, color='r', alpha=0.5, align=\"center\")\n",
    "plt.ylim(-10, max(pctchange)+30)\n",
    "plt.title(\"Percent Change in Average Housing Price by Ward 2000-2016\")\n",
    "plt.xlabel(\"Ward in DC\")\n",
    "plt.ylabel(\"Percent Change in Housing Price\")\n",
    "plt.savefig(\"IncomeBar.png\")\n",
    "tick_locations = [value for value in x_axis]\n",
    "plt.xticks(tick_locations, [\"Ward 1\", \"Ward 2\", \"Ward 3\", \"Ward 4\", \"Ward 5\", \"Ward 6\", \"Ward 7\", \"Ward 8\"])\n",
    "plt.savefig(\"figures/housingbar.png\")\n",
    "plt.show()"
   ]
  },
  {
   "cell_type": "markdown",
   "metadata": {},
   "source": [
    "### 1b: Income Bar Chart"
   ]
  },
  {
   "cell_type": "code",
   "execution_count": null,
   "metadata": {},
   "outputs": [],
   "source": [
    "# Create an array that percentage change of income per ward, from 2000-2016. \n",
    "pctchange = [60.94, 6.95, 4.68, 19.66, 24.35, 71.38, -3.90, 1.83]\n",
    "x_axis = np.arange(len(pctchange))"
   ]
  },
  {
   "cell_type": "code",
   "execution_count": null,
   "metadata": {},
   "outputs": [],
   "source": [
    "# Tell matplotlib that we will be making a bar chart\n",
    "# PctChangAvgIncome is our y axis and Wards is, our x axis\n",
    "# We apply align=\"edge\" to ensure our bars line up with our tick marks\n",
    "\n",
    "plt.bar(x_axis, pctchange, color='r', alpha=0.5, align=\"center\")\n",
    "plt.ylim(-10, max(pctchange)+30)\n",
    "plt.title(\"Percent Change in Income by Ward 2000-2016\")\n",
    "plt.xlabel(\"Ward in DC\")\n",
    "plt.ylabel(\"Percent Change in Income\")\n",
    "tick_locations = [value for value in x_axis]\n",
    "plt.xticks(tick_locations, [\"Ward 1\", \"Ward 2\", \"Ward 3\", \"Ward 4\", \"Ward 5\", \"Ward 6\", \"Ward 7\", \"Ward 8\"])\n",
    "plt.savefig(\"figures/incomebar.png\")\n",
    "plt.show()"
   ]
  },
  {
   "cell_type": "markdown",
   "metadata": {},
   "source": [
    "### 1c:  Heatmaps (Map percent change in income and housing price for DC Wards)"
   ]
  },
  {
   "cell_type": "code",
   "execution_count": null,
   "metadata": {},
   "outputs": [],
   "source": [
    "#import dependencies \n",
    "import geopandas as gpd\n",
    "import fiona\n",
    "import descartes"
   ]
  },
  {
   "cell_type": "code",
   "execution_count": null,
   "metadata": {},
   "outputs": [],
   "source": [
    "#read income csv as a dataframe\n",
    "#preview dataframe\n",
    "\n",
    "#original_path = \"income_data.csv\"\n",
    "original_path = \"census_pctchg_combined.csv\"\n",
    "house_income = pd.read_csv(original_path, encoding=\"utf-8\")\n",
    "house_income.head()"
   ]
  },
  {
   "cell_type": "code",
   "execution_count": null,
   "metadata": {},
   "outputs": [],
   "source": [
    "# create initial map of dc \n",
    "# set the filepath and load in a shapefile\n",
    "fp = \"Ward_from_2012/Ward_from_2012.shp\"\n",
    "\n",
    "map_df = gpd.read_file(fp)\n",
    "\n",
    "# check data type so we can see that this is not a normal dataframe, but a GEOdataframe\n",
    "map_df.head()\n",
    "\n",
    "#pull only the columns we need\n",
    "map_df = map_df[['NAME', 'geometry']]\n",
    "map_df"
   ]
  },
  {
   "cell_type": "code",
   "execution_count": null,
   "metadata": {},
   "outputs": [],
   "source": [
    "map_df.plot()"
   ]
  },
  {
   "cell_type": "code",
   "execution_count": null,
   "metadata": {},
   "outputs": [],
   "source": [
    "#  join the geodataframe with the cleaned up csv dataframe\n",
    "\n",
    "merged = map_df.set_index(\"NAME\").join(house_income.set_index(\"Ward\"))\n",
    "merged"
   ]
  },
  {
   "cell_type": "code",
   "execution_count": null,
   "metadata": {},
   "outputs": [],
   "source": [
    "#create variables to hold columns to plot \n",
    "\n",
    "var_1 = '% Change Avg. Family Income (Adjusted)'\n",
    "var_2 = '% Change Housing Prices'\n",
    "\n",
    "#set the range for the % Change Avg. Family Income (Adjusted)\n",
    "vmin, vmax = -5, 61\n",
    "\n",
    "#create figure and axes\n",
    "fig, ax = plt.subplots(1, figsize=(10,6))\n",
    "\n",
    "#create map of % Change Avg. Family Income (Adjusted)\n",
    "merged.plot(column=var_1, cmap='Reds', linewidth=0.8, ax=ax, edgecolor='0.8')\n",
    "\n",
    "#remove axis     \n",
    "ax.axis('off')\n",
    "\n",
    "#add a title and format it \n",
    "ax.set_title('Average Family Income (% change 2000-2016)', fontdict={'fontsize': '25', 'fontweight': '3'})\n",
    "\n",
    "#add data source information \n",
    "ax.annotate('Source: Open Data DC', xy=(0.1,.08),\n",
    "           xycoords='figure fraction',horizontalalignment='left',\n",
    "           verticalalignment='top',fontsize=12,color='Gray')\n",
    "\n",
    "#create legend - colorbar \n",
    "sm = plt.cm.ScalarMappable(cmap='Reds',norm=plt.Normalize(vmin=vmin,vmax=vmax))\n",
    "\n",
    "#WORK IN PROGRESS - MAP LABEL\n",
    "#set empty range \n",
    "# sm._A = []\n",
    "# ax = merged.plot\n",
    "# ax = merged.apply(lambda x: ax.annotate(s=merged.index, xy=x.geometry.centroid.coords[0])\n",
    "\n",
    "\n",
    "#add legend to plot \n",
    "cbar = fig.colorbar(sm)\n",
    "\n",
    "#save figure \n",
    "fig.savefig(\"figures/income_export.png\", dpi=300)\n"
   ]
  },
  {
   "cell_type": "markdown",
   "metadata": {},
   "source": [
    "### Analysis #2: What kinds of schools (public vs charter) make up these communities (wards)? \n",
    "Demonstration:\n",
    "Charter Vs. Public Schools gentrified vs non-gentrified ward (sample) comparisons.\n",
    "(most gentrified wards: 1,6, and 5 - consistent with housing & income data)\n",
    "    "
   ]
  },
  {
   "cell_type": "code",
   "execution_count": null,
   "metadata": {},
   "outputs": [],
   "source": [
    "#set the range for the % Change Housing Prices\n",
    "vmin, vmax = 0, 420\n",
    "\n",
    "#create figure and axes \n",
    "fig, ax = plt.subplots(1, figsize=(10,6))\n",
    "\n",
    "#plot map of % Change Housing Prices\n",
    "merged.plot(column=var_2, cmap='Blues', linewidth=0.8, ax=ax, edgecolor='0.8')\n",
    "\n",
    "#remove axes \n",
    "ax.axis('off')\n",
    "\n",
    "#create title and format\n",
    "ax.set_title('% Change Housing Prices', fontdict={'fontsize': '25', 'fontweight': '3'})\n",
    "\n",
    "#add source information \n",
    "ax.annotate('Source: Open Data DC', xy=(0.1,.08),\n",
    "           xycoords='figure fraction',horizontalalignment='left',\n",
    "           verticalalignment='top',fontsize=12,color='Gray')\n",
    "\n",
    "#create legend - color bar \n",
    "sm = plt.cm.ScalarMappable(cmap='Blues',norm=plt.Normalize(vmin=vmin,vmax=vmax))\n",
    "\n",
    "#WORK IN PROGRESS - MAP LABEL\n",
    "#set empty range \n",
    "# sm._A = []\n",
    "# ax = merged.plot\n",
    "# ax = merged.apply(lambda x: ax.annotate(s=merged.index, xy=x.geometry.centroid.coords[0])\n",
    "\n",
    "#add legend to map \n",
    "cbar = fig.colorbar(sm)\n",
    "\n",
    "#save figure \n",
    "fig.savefig(\"figures/housing_export.png\", dpi=300)"
   ]
  },
  {
   "cell_type": "markdown",
   "metadata": {},
   "source": [
    "### Charter vs. Public School Pie Charts"
   ]
  },
  {
   "cell_type": "code",
   "execution_count": null,
   "metadata": {},
   "outputs": [],
   "source": [
    "# load data source\n",
    "csv_path = \"clean/studentbyward.csv\""
   ]
  },
  {
   "cell_type": "code",
   "execution_count": null,
   "metadata": {},
   "outputs": [],
   "source": [
    "# Read with pandas into dataframe\n",
    "studentbyward_df = pd.read_csv(csv_path, encoding = 'iso-8859-1', low_memory=False)\n",
    "\n",
    "# Inspect all columns\n",
    "list(studentbyward_df.columns)"
   ]
  },
  {
   "cell_type": "code",
   "execution_count": null,
   "metadata": {},
   "outputs": [],
   "source": [
    "# sum enrollment for 2014-15 and 2016-17\n",
    "\n",
    "studentbyward_df['Enrollment'] = studentbyward_df['PK-12 Enrollment 2014-15'] + studentbyward_df['PK-12 Enrollment 2016-17']            \n",
    "# Slide data\n",
    "sub_studentbyward_df = studentbyward_df.iloc[:,[0, 1, 2, 3, 13]]\n",
    "\n",
    "#preview data\n",
    "sub_studentbyward_df.head(10)"
   ]
  },
  {
   "cell_type": "code",
   "execution_count": null,
   "metadata": {},
   "outputs": [],
   "source": [
    "#clean housing data, only using timeframe, ward, start date, end date, and housing prices \n",
    "\n",
    "housing_clean = housing_data.iloc[[8,9,10,11,12,13,14,15,16,17,18,19,20,21,22,23],[0,1,5,6,12]]\n",
    "housing_clean = housing_clean.rename(columns={\"timeframe\":\"Timeframe\",\n",
    "                                              \"ward2012\": \"Ward\", \n",
    "                                              \"start_date\": \"Start Date\", \n",
    "                                              \"end_date\": \"End Date\", \n",
    "                                              \"mprice_sf\": \"Housing Prices\"})\n",
    "\n",
    "#print new dataframe \n",
    "housing_clean"
   ]
  },
  {
   "cell_type": "markdown",
   "metadata": {},
   "source": [
    "### 2a:  Ward 1 Analysis (gentrified ward)"
   ]
  },
  {
   "cell_type": "code",
   "execution_count": null,
   "metadata": {},
   "outputs": [],
   "source": [
    "#Slide data for Ward 1\n",
    "array = ['Ward 1']\n",
    "ward1_df = sub_studentbyward_df.loc[sub_studentbyward_df['School Ward 2016-17'].isin(array)]\n",
    "ward1_df.head()"
   ]
  },
  {
   "cell_type": "code",
   "execution_count": null,
   "metadata": {},
   "outputs": [],
   "source": [
    "#group ward 1 data by sector for data visualization\n",
    "grouped_ward1_df = ward1_df.groupby(['Sector'])\n",
    "pie_ward1_df = grouped_ward1_df.sum()\n",
    "pie_ward1_df"
   ]
  },
  {
   "cell_type": "code",
   "execution_count": null,
   "metadata": {},
   "outputs": [],
   "source": [
    "# Create Ward 1 pie chart, set color, size, and percent\n",
    "\n",
    "colors = [\"lightcoral\", \"lightskyblue\"]\n",
    "ward1plot = pie_ward1_df.plot.pie(y='Enrollment', autopct=\"%1.2f%%\", colors = colors, figsize=(10, 10))\n",
    "# Create title, save output png file\n",
    "plt.title(\"Ward 1 Charter vs. Public schools\")\n",
    "plt.savefig(\"figures/ward1pie.png\")\n",
    "plt.show()"
   ]
  },
  {
   "cell_type": "markdown",
   "metadata": {},
   "source": [
    "### 2b: Ward 6 Analysis (gentrified ward)"
   ]
  },
  {
   "cell_type": "code",
   "execution_count": null,
   "metadata": {},
   "outputs": [],
   "source": [
    "#Slide data for Ward 6\n",
    "array = ['Ward 6']\n",
    "ward6_df = sub_studentbyward_df.loc[sub_studentbyward_df['School Ward 2016-17'].isin(array)]\n",
    "ward6_df.head()"
   ]
  },
  {
   "cell_type": "code",
   "execution_count": null,
   "metadata": {},
   "outputs": [],
   "source": [
    "#Group Ward 6 data by sector for data visualization\n",
    "grouped_ward6_df = ward6_df.groupby(['Sector'])\n",
    "pie_ward6_df = grouped_ward6_df.sum()\n",
    "pie_ward6_df"
   ]
  },
  {
   "cell_type": "code",
   "execution_count": null,
   "metadata": {},
   "outputs": [],
   "source": [
    "# Create Ward 3 pie chart, set color, size, and percent\n",
    "ward6plot = pie_ward6_df.plot.pie(y='Enrollment', autopct=\"%1.2f%%\", colors = colors, figsize=(10, 10))\n",
    "plt.title(\"Ward 6 Charter vs. Public schools\")\n",
    "# Create title, save output png file\n",
    "plt.savefig(\"figures/ward6pie.png\")\n",
    "plt.show()"
   ]
  },
  {
   "cell_type": "markdown",
   "metadata": {},
   "source": [
    "### 2c: Ward 3 Analysis (non-gentrified ward)"
   ]
  },
  {
   "cell_type": "code",
   "execution_count": null,
   "metadata": {},
   "outputs": [],
   "source": [
    "#Slide data for Ward 3\n",
    "array = ['Ward 3']\n",
    "ward3_df = sub_studentbyward_df.loc[sub_studentbyward_df['School Ward 2016-17'].isin(array)]\n",
    "ward3_df.head()"
   ]
  },
  {
   "cell_type": "code",
   "execution_count": null,
   "metadata": {},
   "outputs": [],
   "source": [
    "#Group Ward 3 data by sector for data visualization\n",
    "\n",
    "grouped_ward3_df = ward3_df.groupby(['Sector'])\n",
    "pie_ward3_df = grouped_ward3_df.sum()\n",
    "pie_ward3_df"
   ]
  },
  {
   "cell_type": "code",
   "execution_count": null,
   "metadata": {},
   "outputs": [],
   "source": [
    "# Create Ward 6 pie chart, set color, size, and percent\n",
    "color = [\"lightskyblue\"]\n",
    "ward3plot = pie_ward3_df.plot.pie(y='Enrollment', autopct=\"%1.2f%%\", colors = color, figsize=(10, 10))\n",
    "# Create title, save output png file\n",
    "plt.title(\"Ward 3 Charter vs. Public schools\")\n",
    "plt.savefig(\"figures/ward3pie.png\")\n",
    "plt.show()"
   ]
  },
  {
   "cell_type": "markdown",
   "metadata": {},
   "source": [
    "### Analysis #3: Does gentrification make an impact on where students choose to enroll in school?"
   ]
  },
  {
   "cell_type": "code",
   "execution_count": null,
   "metadata": {},
   "outputs": [],
   "source": [
    "# load source data\n",
    "#csv_path = \"clean/landscape-diversity-data.xlsx\"\n",
    "csv_path = \"clean/studentbysector.csv\""
   ]
  },
  {
   "cell_type": "code",
   "execution_count": null,
   "metadata": {},
   "outputs": [],
   "source": [
    "# Read with pandas into dataframe\n",
    "clean_sector_ward_df = pd.read_csv(csv_path, encoding = 'iso-8859-1', low_memory=False)\n",
    "\n",
    "# Inspect all columns\n",
    "list(clean_sector_ward_df.columns)"
   ]
  },
  {
   "cell_type": "code",
   "execution_count": null,
   "metadata": {},
   "outputs": [],
   "source": [
    "#convert convert-a-string-percent-to-a-float\n",
    "\n",
    "clean_sector_ward_df['% living in School Ward 2016-17'] = \\\n",
    "              clean_sector_ward_df['% living in School Ward 2016-17'].str.rstrip('%').astype('float') / 100.0\n",
    "\n",
    "clean_sector_ward_df.dtypes"
   ]
  },
  {
   "cell_type": "code",
   "execution_count": null,
   "metadata": {},
   "outputs": [],
   "source": [
    "ward1 = (clean_sector_ward_df.groupby(['School Ward 2016-17', '% living in School Ward 2016-17'], as_index=False).mean()\n",
    "            .groupby('School Ward 2016-17')['% living in School Ward 2016-17'].mean())\n",
    "ward1"
   ]
  },
  {
   "cell_type": "code",
   "execution_count": null,
   "metadata": {},
   "outputs": [],
   "source": [
    "# %matplotlib notebook\n",
    "# from matplotlib import pyplot as plt\n",
    "# Create Ward 6 pie chart, set color, size, and percent\n",
    "ax = ward1.plot.bar(x='School Ward 2016-17', y='% living in School Ward 2016-17', rot=0)\n",
    "\n",
    "plt.title(\"Percent enrolled living in same ward\")\n",
    "plt.xlabel(\"School Ward\")\n",
    "plt.ylabel(\"Percent living in ward of school\")\n",
    "\n",
    "plt.savefig(\"figures/LivingInWard.png\")\n",
    "plt.show()"
   ]
  },
  {
   "cell_type": "code",
   "execution_count": null,
   "metadata": {},
   "outputs": [],
   "source": []
  }
 ],
 "metadata": {
  "kernelspec": {
   "display_name": "Python 3",
   "language": "python",
   "name": "python3"
  },
  "language_info": {
   "codemirror_mode": {
    "name": "ipython",
    "version": 3
   },
   "file_extension": ".py",
   "mimetype": "text/x-python",
   "name": "python",
   "nbconvert_exporter": "python",
   "pygments_lexer": "ipython3",
   "version": "3.7.3"
  }
 },
 "nbformat": 4,
 "nbformat_minor": 2
}
