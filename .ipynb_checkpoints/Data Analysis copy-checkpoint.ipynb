{
 "cells": [
  {
   "cell_type": "markdown",
   "metadata": {},
   "source": [
    "# Data Analysis Code for DC Gentrification Trends\n",
    "----\n",
    "### To be considered gentrified in DC, a Ward’s median household income and median home value needs to fall within the bottom 40th percentile of all ward’s within DC from the beginning of the decade.  \n",
    "\n",
    "### (For our analysis, we used data from 2000 and 2016)\n",
    "\n",
    "Analysis\n",
    "1. Wards in DC most affected by gentrification\n",
    "2. Kinds of schools (public vs charter) that make up these communities (wards)\n",
    "3. Gentrification and where students choose to enroll in school"
   ]
  },
  {
   "cell_type": "markdown",
   "metadata": {},
   "source": [
    "### important: must import geopandas (support for geographic data to pandas objects) to build heatmaps  \n",
    "\n",
    "to install geopandas... install the following in this order (good luck!)\n",
    "\n",
    "1. numpy\n",
    "2. GDAL\n",
    "3. gyshp\n",
    "4. shapley\n",
    "5. fiona\n",
    "6. geopy\n",
    "7. pyproj\n",
    "8. geopandas\n"
   ]
  },
  {
   "cell_type": "code",
   "execution_count": 1,
   "metadata": {},
   "outputs": [],
   "source": [
    "#import dependencies \n",
    "import numpy as np\n",
    "import matplotlib.pyplot as plt\n",
    "import pandas as pd"
   ]
  },
  {
   "cell_type": "markdown",
   "metadata": {},
   "source": [
    "### Analysis #1: Which Wards in DC have been affected most by gentrification\n",
    "Demonstration:\n",
    "Housing and Income by Ward"
   ]
  },
  {
   "cell_type": "markdown",
   "metadata": {},
   "source": [
    "### 1a: Housing Bar Graph"
   ]
  },
  {
   "cell_type": "code",
   "execution_count": 2,
   "metadata": {},
   "outputs": [],
   "source": [
    "pctchange = [418.64, 160, 157.69, 314.04, 338.81, 375.23, 221.31, 200.08]\n",
    "x_axis = np.arange(len(pctchange))"
   ]
  },
  {
   "cell_type": "code",
   "execution_count": 3,
   "metadata": {},
   "outputs": [
    {
     "data": {
      "image/png": "[encoded data removed]",
      "text/plain": [
       "<Figure size 432x288 with 1 Axes>"
      ]
     },
     "metadata": {
      "needs_background": "light"
     },
     "output_type": "display_data"
    }
   ],
   "source": [
    "plt.bar(x_axis, pctchange, color='r', alpha=0.5, align=\"center\")\n",
    "plt.ylim(-10, max(pctchange)+30)\n",
    "plt.title(\"Percent Change in Average Housing Price by Ward 2000-2016\")\n",
    "plt.xlabel(\"Ward in DC\")\n",
    "plt.ylabel(\"Percent Change in Housing Price\")\n",
    "plt.savefig(\"IncomeBar.png\")\n",
    "tick_locations = [value for value in x_axis]\n",
    "plt.xticks(tick_locations, [\"Ward 1\", \"Ward 2\", \"Ward 3\", \"Ward 4\", \"Ward 5\", \"Ward 6\", \"Ward 7\", \"Ward 8\"])\n",
    "plt.savefig(\"figures/housingbar.png\")\n",
    "plt.show()"
   ]
  },
  {
   "cell_type": "markdown",
   "metadata": {},
   "source": [
    "### 1b: Income Bar Chart"
   ]
  },
  {
   "cell_type": "code",
   "execution_count": 4,
   "metadata": {},
   "outputs": [],
   "source": [
    "# Create an array that percentage change of income per ward, from 2000-2016. \n",
    "pctchange = [60.94, 6.95, 4.68, 19.66, 24.35, 71.38, -3.90, 1.83]\n",
    "x_axis = np.arange(len(pctchange))"
   ]
  },
  {
   "cell_type": "code",
   "execution_count": 5,
   "metadata": {},
   "outputs": [
    {
     "data": {
      "image/png": "[encoded data removed]",
      "text/plain": [
       "<Figure size 432x288 with 1 Axes>"
      ]
     },
     "metadata": {
      "needs_background": "light"
     },
     "output_type": "display_data"
    }
   ],
   "source": [
    "# Tell matplotlib that we will be making a bar chart\n",
    "# PctChangAvgIncome is our y axis and Wards is, our x axis\n",
    "# We apply align=\"edge\" to ensure our bars line up with our tick marks\n",
    "\n",
    "plt.bar(x_axis, pctchange, color='r', alpha=0.5, align=\"center\")\n",
    "plt.ylim(-10, max(pctchange)+30)\n",
    "plt.title(\"Percent Change in Income by Ward 2000-2016\")\n",
    "plt.xlabel(\"Ward in DC\")\n",
    "plt.ylabel(\"Percent Change in Income\")\n",
    "tick_locations = [value for value in x_axis]\n",
    "plt.xticks(tick_locations, [\"Ward 1\", \"Ward 2\", \"Ward 3\", \"Ward 4\", \"Ward 5\", \"Ward 6\", \"Ward 7\", \"Ward 8\"])\n",
    "plt.savefig(\"figures/incomebar.png\")\n",
    "plt.show()"
   ]
  },
  {
   "cell_type": "markdown",
   "metadata": {},
   "source": [
    "### 1c:  Heatmaps (Map percent change in income and housing price for DC Wards)"
   ]
  },
  {
   "cell_type": "code",
   "execution_count": null,
   "metadata": {},
   "outputs": [],
   "source": [
    "#import additional dependencies for geo mapping \n",
    "import geopandas as gpd\n",
    "import fiona\n",
    "import descartes"
   ]
  },
  {
   "cell_type": "code",
   "execution_count": 6,
   "metadata": {},
   "outputs": [
    {
     "data": {
      "text/html": [
       "<div>\n",
       "<style scoped>\n",
       "    .dataframe tbody tr th:only-of-type {\n",
       "        vertical-align: middle;\n",
       "    }\n",
       "\n",
       "    .dataframe tbody tr th {\n",
       "        vertical-align: top;\n",
       "    }\n",
       "\n",
       "    .dataframe thead th {\n",
       "        text-align: right;\n",
       "    }\n",
       "</style>\n",
       "<table border=\"1\" class=\"dataframe\">\n",
       "  <thead>\n",
       "    <tr style=\"text-align: right;\">\n",
       "      <th></th>\n",
       "      <th>Ward</th>\n",
       "      <th>Housing Price 2000</th>\n",
       "      <th>Housing Price 2016</th>\n",
       "      <th>% Change Housing Price</th>\n",
       "      <th>Income 2000</th>\n",
       "      <th>Income 2016</th>\n",
       "      <th>% Change Income Price</th>\n",
       "    </tr>\n",
       "  </thead>\n",
       "  <tbody>\n",
       "    <tr>\n",
       "      <th>0</th>\n",
       "      <td>Ward 1</td>\n",
       "      <td>154500</td>\n",
       "      <td>801300</td>\n",
       "      <td>418.64%</td>\n",
       "      <td>83546</td>\n",
       "      <td>134463</td>\n",
       "      <td>60.94%</td>\n",
       "    </tr>\n",
       "    <tr>\n",
       "      <th>1</th>\n",
       "      <td>Ward 2</td>\n",
       "      <td>500000</td>\n",
       "      <td>1300000</td>\n",
       "      <td>160.00%</td>\n",
       "      <td>211312</td>\n",
       "      <td>225994</td>\n",
       "      <td>6.95%</td>\n",
       "    </tr>\n",
       "    <tr>\n",
       "      <th>2</th>\n",
       "      <td>Ward 3</td>\n",
       "      <td>455000</td>\n",
       "      <td>1172500</td>\n",
       "      <td>157.69%</td>\n",
       "      <td>269171</td>\n",
       "      <td>281764</td>\n",
       "      <td>4.68%</td>\n",
       "    </tr>\n",
       "    <tr>\n",
       "      <th>3</th>\n",
       "      <td>Ward 4</td>\n",
       "      <td>156750</td>\n",
       "      <td>649000</td>\n",
       "      <td>314.04%</td>\n",
       "      <td>117410</td>\n",
       "      <td>140497</td>\n",
       "      <td>19.66%</td>\n",
       "    </tr>\n",
       "    <tr>\n",
       "      <th>4</th>\n",
       "      <td>Ward 5</td>\n",
       "      <td>124200</td>\n",
       "      <td>545000</td>\n",
       "      <td>338.81%</td>\n",
       "      <td>78483</td>\n",
       "      <td>97593</td>\n",
       "      <td>24.35%</td>\n",
       "    </tr>\n",
       "  </tbody>\n",
       "</table>\n",
       "</div>"
      ],
      "text/plain": [
       "     Ward  Housing Price 2000  Housing Price 2016 % Change Housing Price  \\\n",
       "0  Ward 1              154500              801300                418.64%   \n",
       "1  Ward 2              500000             1300000                160.00%   \n",
       "2  Ward 3              455000             1172500                157.69%   \n",
       "3  Ward 4              156750              649000                314.04%   \n",
       "4  Ward 5              124200              545000                338.81%   \n",
       "\n",
       "   Income 2000  Income 2016 % Change Income Price  \n",
       "0        83546       134463                60.94%  \n",
       "1       211312       225994                 6.95%  \n",
       "2       269171       281764                 4.68%  \n",
       "3       117410       140497                19.66%  \n",
       "4        78483        97593                24.35%  "
      ]
     },
     "execution_count": 6,
     "metadata": {},
     "output_type": "execute_result"
    }
   ],
   "source": [
    "#read income csv as a dataframe\n",
    "#preview dataframe\n",
    "\n",
    "#original_path = \"income_data.csv\"\n",
    "original_path = \"clean/census_pctchg_combined.csv\"\n",
    "house_income = pd.read_csv(original_path, encoding=\"utf-8\")\n",
    "house_income.head()"
   ]
  },
  {
   "cell_type": "code",
   "execution_count": 7,
   "metadata": {},
   "outputs": [
    {
     "data": {
      "text/html": [
       "<div>\n",
       "<style scoped>\n",
       "    .dataframe tbody tr th:only-of-type {\n",
       "        vertical-align: middle;\n",
       "    }\n",
       "\n",
       "    .dataframe tbody tr th {\n",
       "        vertical-align: top;\n",
       "    }\n",
       "\n",
       "    .dataframe thead th {\n",
       "        text-align: right;\n",
       "    }\n",
       "</style>\n",
       "<table border=\"1\" class=\"dataframe\">\n",
       "  <thead>\n",
       "    <tr style=\"text-align: right;\">\n",
       "      <th></th>\n",
       "      <th>NAME</th>\n",
       "      <th>geometry</th>\n",
       "    </tr>\n",
       "  </thead>\n",
       "  <tbody>\n",
       "    <tr>\n",
       "      <th>0</th>\n",
       "      <td>Ward 8</td>\n",
       "      <td>POLYGON ((-76.97229 38.87286, -76.97223 38.872...</td>\n",
       "    </tr>\n",
       "    <tr>\n",
       "      <th>1</th>\n",
       "      <td>Ward 6</td>\n",
       "      <td>POLYGON ((-77.01790 38.91410, -77.01786 38.914...</td>\n",
       "    </tr>\n",
       "    <tr>\n",
       "      <th>2</th>\n",
       "      <td>Ward 7</td>\n",
       "      <td>POLYGON ((-76.94186 38.91854, -76.90915 38.892...</td>\n",
       "    </tr>\n",
       "    <tr>\n",
       "      <th>3</th>\n",
       "      <td>Ward 2</td>\n",
       "      <td>POLYGON ((-77.04946 38.91999, -77.04919 38.919...</td>\n",
       "    </tr>\n",
       "    <tr>\n",
       "      <th>4</th>\n",
       "      <td>Ward 1</td>\n",
       "      <td>POLYGON ((-77.03523 38.93743, -77.03480 38.937...</td>\n",
       "    </tr>\n",
       "    <tr>\n",
       "      <th>5</th>\n",
       "      <td>Ward 5</td>\n",
       "      <td>POLYGON ((-76.99144 38.95730, -76.94186 38.918...</td>\n",
       "    </tr>\n",
       "    <tr>\n",
       "      <th>6</th>\n",
       "      <td>Ward 3</td>\n",
       "      <td>POLYGON ((-77.05808 38.95676, -77.05807 38.956...</td>\n",
       "    </tr>\n",
       "    <tr>\n",
       "      <th>7</th>\n",
       "      <td>Ward 4</td>\n",
       "      <td>POLYGON ((-77.04097 38.99597, -76.99144 38.957...</td>\n",
       "    </tr>\n",
       "  </tbody>\n",
       "</table>\n",
       "</div>"
      ],
      "text/plain": [
       "     NAME                                           geometry\n",
       "0  Ward 8  POLYGON ((-76.97229 38.87286, -76.97223 38.872...\n",
       "1  Ward 6  POLYGON ((-77.01790 38.91410, -77.01786 38.914...\n",
       "2  Ward 7  POLYGON ((-76.94186 38.91854, -76.90915 38.892...\n",
       "3  Ward 2  POLYGON ((-77.04946 38.91999, -77.04919 38.919...\n",
       "4  Ward 1  POLYGON ((-77.03523 38.93743, -77.03480 38.937...\n",
       "5  Ward 5  POLYGON ((-76.99144 38.95730, -76.94186 38.918...\n",
       "6  Ward 3  POLYGON ((-77.05808 38.95676, -77.05807 38.956...\n",
       "7  Ward 4  POLYGON ((-77.04097 38.99597, -76.99144 38.957..."
      ]
     },
     "execution_count": 7,
     "metadata": {},
     "output_type": "execute_result"
    }
   ],
   "source": [
    "# create initial map of dc \n",
    "# set the filepath and load in a shapefile\n",
    "fp = \"ward_from_2012/Ward_from_2012.shp\"\n",
    "\n",
    "map_df = gpd.read_file(fp)\n",
    "\n",
    "# check data type so we can see that this is not a normal dataframe, but a GEOdataframe\n",
    "map_df.head()\n",
    "\n",
    "#pull only the columns we need\n",
    "map_df = map_df[['NAME', 'geometry']]\n",
    "map_df"
   ]
  },
  {
   "cell_type": "code",
   "execution_count": 8,
   "metadata": {},
   "outputs": [
    {
     "data": {
      "text/plain": [
       "<matplotlib.axes._subplots.AxesSubplot at 0x11b233978>"
      ]
     },
     "execution_count": 8,
     "metadata": {},
     "output_type": "execute_result"
    },
    {
     "data": {
      "image/png": "[encoded data removed]",
      "text/plain": [
       "<Figure size 432x288 with 1 Axes>"
      ]
     },
     "metadata": {
      "needs_background": "light"
     },
     "output_type": "display_data"
    }
   ],
   "source": [
    "map_df.plot()"
   ]
  },
  {
   "cell_type": "code",
   "execution_count": 9,
   "metadata": {},
   "outputs": [
    {
     "data": {
      "text/html": [
       "<div>\n",
       "<style scoped>\n",
       "    .dataframe tbody tr th:only-of-type {\n",
       "        vertical-align: middle;\n",
       "    }\n",
       "\n",
       "    .dataframe tbody tr th {\n",
       "        vertical-align: top;\n",
       "    }\n",
       "\n",
       "    .dataframe thead th {\n",
       "        text-align: right;\n",
       "    }\n",
       "</style>\n",
       "<table border=\"1\" class=\"dataframe\">\n",
       "  <thead>\n",
       "    <tr style=\"text-align: right;\">\n",
       "      <th></th>\n",
       "      <th>geometry</th>\n",
       "      <th>Housing Price 2000</th>\n",
       "      <th>Housing Price 2016</th>\n",
       "      <th>% Change Housing Price</th>\n",
       "      <th>Income 2000</th>\n",
       "      <th>Income 2016</th>\n",
       "      <th>% Change Income Price</th>\n",
       "    </tr>\n",
       "    <tr>\n",
       "      <th>NAME</th>\n",
       "      <th></th>\n",
       "      <th></th>\n",
       "      <th></th>\n",
       "      <th></th>\n",
       "      <th></th>\n",
       "      <th></th>\n",
       "      <th></th>\n",
       "    </tr>\n",
       "  </thead>\n",
       "  <tbody>\n",
       "    <tr>\n",
       "      <th>Ward 8</th>\n",
       "      <td>POLYGON ((-76.97229 38.87286, -76.97223 38.872...</td>\n",
       "      <td>96175</td>\n",
       "      <td>288600</td>\n",
       "      <td>200.08%</td>\n",
       "      <td>51478</td>\n",
       "      <td>52422</td>\n",
       "      <td>1.83%</td>\n",
       "    </tr>\n",
       "    <tr>\n",
       "      <th>Ward 6</th>\n",
       "      <td>POLYGON ((-77.01790 38.91410, -77.01786 38.914...</td>\n",
       "      <td>159900</td>\n",
       "      <td>759900</td>\n",
       "      <td>375.23%</td>\n",
       "      <td>92864</td>\n",
       "      <td>159151</td>\n",
       "      <td>71.38%</td>\n",
       "    </tr>\n",
       "    <tr>\n",
       "      <th>Ward 7</th>\n",
       "      <td>POLYGON ((-76.94186 38.91854, -76.90915 38.892...</td>\n",
       "      <td>93133</td>\n",
       "      <td>299250</td>\n",
       "      <td>221.31%</td>\n",
       "      <td>64807</td>\n",
       "      <td>62281</td>\n",
       "      <td>-3.90%</td>\n",
       "    </tr>\n",
       "    <tr>\n",
       "      <th>Ward 2</th>\n",
       "      <td>POLYGON ((-77.04946 38.91999, -77.04919 38.919...</td>\n",
       "      <td>500000</td>\n",
       "      <td>1300000</td>\n",
       "      <td>160.00%</td>\n",
       "      <td>211312</td>\n",
       "      <td>225994</td>\n",
       "      <td>6.95%</td>\n",
       "    </tr>\n",
       "    <tr>\n",
       "      <th>Ward 1</th>\n",
       "      <td>POLYGON ((-77.03523 38.93743, -77.03480 38.937...</td>\n",
       "      <td>154500</td>\n",
       "      <td>801300</td>\n",
       "      <td>418.64%</td>\n",
       "      <td>83546</td>\n",
       "      <td>134463</td>\n",
       "      <td>60.94%</td>\n",
       "    </tr>\n",
       "    <tr>\n",
       "      <th>Ward 5</th>\n",
       "      <td>POLYGON ((-76.99144 38.95730, -76.94186 38.918...</td>\n",
       "      <td>124200</td>\n",
       "      <td>545000</td>\n",
       "      <td>338.81%</td>\n",
       "      <td>78483</td>\n",
       "      <td>97593</td>\n",
       "      <td>24.35%</td>\n",
       "    </tr>\n",
       "    <tr>\n",
       "      <th>Ward 3</th>\n",
       "      <td>POLYGON ((-77.05808 38.95676, -77.05807 38.956...</td>\n",
       "      <td>455000</td>\n",
       "      <td>1172500</td>\n",
       "      <td>157.69%</td>\n",
       "      <td>269171</td>\n",
       "      <td>281764</td>\n",
       "      <td>4.68%</td>\n",
       "    </tr>\n",
       "    <tr>\n",
       "      <th>Ward 4</th>\n",
       "      <td>POLYGON ((-77.04097 38.99597, -76.99144 38.957...</td>\n",
       "      <td>156750</td>\n",
       "      <td>649000</td>\n",
       "      <td>314.04%</td>\n",
       "      <td>117410</td>\n",
       "      <td>140497</td>\n",
       "      <td>19.66%</td>\n",
       "    </tr>\n",
       "  </tbody>\n",
       "</table>\n",
       "</div>"
      ],
      "text/plain": [
       "                                                 geometry  Housing Price 2000  \\\n",
       "NAME                                                                            \n",
       "Ward 8  POLYGON ((-76.97229 38.87286, -76.97223 38.872...               96175   \n",
       "Ward 6  POLYGON ((-77.01790 38.91410, -77.01786 38.914...              159900   \n",
       "Ward 7  POLYGON ((-76.94186 38.91854, -76.90915 38.892...               93133   \n",
       "Ward 2  POLYGON ((-77.04946 38.91999, -77.04919 38.919...              500000   \n",
       "Ward 1  POLYGON ((-77.03523 38.93743, -77.03480 38.937...              154500   \n",
       "Ward 5  POLYGON ((-76.99144 38.95730, -76.94186 38.918...              124200   \n",
       "Ward 3  POLYGON ((-77.05808 38.95676, -77.05807 38.956...              455000   \n",
       "Ward 4  POLYGON ((-77.04097 38.99597, -76.99144 38.957...              156750   \n",
       "\n",
       "        Housing Price 2016 % Change Housing Price  Income 2000  Income 2016  \\\n",
       "NAME                                                                          \n",
       "Ward 8              288600                200.08%        51478        52422   \n",
       "Ward 6              759900                375.23%        92864       159151   \n",
       "Ward 7              299250                221.31%        64807        62281   \n",
       "Ward 2             1300000                160.00%       211312       225994   \n",
       "Ward 1              801300                418.64%        83546       134463   \n",
       "Ward 5              545000                338.81%        78483        97593   \n",
       "Ward 3             1172500                157.69%       269171       281764   \n",
       "Ward 4              649000                314.04%       117410       140497   \n",
       "\n",
       "       % Change Income Price  \n",
       "NAME                          \n",
       "Ward 8                 1.83%  \n",
       "Ward 6                71.38%  \n",
       "Ward 7                -3.90%  \n",
       "Ward 2                 6.95%  \n",
       "Ward 1                60.94%  \n",
       "Ward 5                24.35%  \n",
       "Ward 3                 4.68%  \n",
       "Ward 4                19.66%  "
      ]
     },
     "execution_count": 9,
     "metadata": {},
     "output_type": "execute_result"
    }
   ],
   "source": [
    "#  join the geodataframe with the cleaned up csv dataframe\n",
    "\n",
    "merged = map_df.set_index(\"NAME\").join(house_income.set_index(\"Ward\"))\n",
    "merged"
   ]
  },
  {
   "cell_type": "code",
   "execution_count": 10,
   "metadata": {},
   "outputs": [
    {
     "data": {
      "image/png": "[encoded data removed]",
      "text/plain": [
       "<Figure size 720x432 with 2 Axes>"
      ]
     },
     "metadata": {
      "needs_background": "light"
     },
     "output_type": "display_data"
    }
   ],
   "source": [
    "#create variables to hold columns to plot \n",
    "\n",
    "var_1 = '% Change Income Price'\n",
    "var_2 = '% Change Housing Price'\n",
    "\n",
    "#set the range for the % Change Avg. Family Income (Adjusted)\n",
    "vmin, vmax = -5, 61\n",
    "\n",
    "#create figure and axes\n",
    "fig, ax = plt.subplots(1, figsize=(10,6))\n",
    "\n",
    "#create map of % Change Avg. Family Income (Adjusted)\n",
    "merged.plot(column=var_1, cmap='Reds', linewidth=0.8, ax=ax, edgecolor='0.8')\n",
    "\n",
    "#remove axis     \n",
    "ax.axis('off')\n",
    "\n",
    "#add a title and format it \n",
    "ax.set_title('Average Family Income (% change 2000-2016)', fontdict={'fontsize': '25', 'fontweight': '3'})\n",
    "\n",
    "#add data source information \n",
    "ax.annotate('Source: Open Data DC', xy=(0.1,.08),\n",
    "           xycoords='figure fraction',horizontalalignment='left',\n",
    "           verticalalignment='top',fontsize=12,color='Gray')\n",
    "\n",
    "#create legend - colorbar \n",
    "sm = plt.cm.ScalarMappable(cmap='Reds',norm=plt.Normalize(vmin=vmin,vmax=vmax))\n",
    "\n",
    "#WORK IN PROGRESS - MAP LABEL\n",
    "#set empty range \n",
    "# sm._A = []\n",
    "# ax = merged.plot\n",
    "# ax = merged.apply(lambda x: ax.annotate(s=merged.index, xy=x.geometry.centroid.coords[0])\n",
    "\n",
    "\n",
    "#add legend to plot \n",
    "cbar = fig.colorbar(sm)\n",
    "\n",
    "#save figure \n",
    "fig.savefig(\"figures/income_export.png\", dpi=300)\n"
   ]
  },
  {
   "cell_type": "markdown",
   "metadata": {},
   "source": [
    "### Analysis #2: What kinds of schools (public vs charter) make up these communities (wards)? \n",
    "Demonstration:\n",
    "Charter Vs. Public Schools gentrified vs non-gentrified ward (sample) comparisons.\n",
    "(most gentrified wards: 1,6, and 5 - consistent with housing & income data)\n",
    "    "
   ]
  },
  {
   "cell_type": "code",
   "execution_count": 11,
   "metadata": {},
   "outputs": [
    {
     "data": {
      "image/png": "[encoded data removed]",
      "text/plain": [
       "<Figure size 720x432 with 2 Axes>"
      ]
     },
     "metadata": {
      "needs_background": "light"
     },
     "output_type": "display_data"
    }
   ],
   "source": [
    "#set the range for the % Change Housing Prices\n",
    "vmin, vmax = 0, 420\n",
    "\n",
    "#create figure and axes \n",
    "fig, ax = plt.subplots(1, figsize=(10,6))\n",
    "\n",
    "#plot map of % Change Housing Prices\n",
    "merged.plot(column=var_2, cmap='Blues', linewidth=0.8, ax=ax, edgecolor='0.8')\n",
    "\n",
    "#remove axes \n",
    "ax.axis('off')\n",
    "\n",
    "#create title and format\n",
    "ax.set_title('% Change Housing Prices', fontdict={'fontsize': '25', 'fontweight': '3'})\n",
    "\n",
    "#add source information \n",
    "ax.annotate('Source: Open Data DC', xy=(0.1,.08),\n",
    "           xycoords='figure fraction',horizontalalignment='left',\n",
    "           verticalalignment='top',fontsize=12,color='Gray')\n",
    "\n",
    "#create legend - color bar \n",
    "sm = plt.cm.ScalarMappable(cmap='Blues',norm=plt.Normalize(vmin=vmin,vmax=vmax))\n",
    "\n",
    "#WORK IN PROGRESS - MAP LABEL\n",
    "#set empty range \n",
    "# sm._A = []\n",
    "# ax = merged.plot\n",
    "# ax = merged.apply(lambda x: ax.annotate(s=merged.index, xy=x.geometry.centroid.coords[0])\n",
    "\n",
    "#add legend to map \n",
    "cbar = fig.colorbar(sm)\n",
    "\n",
    "#save figure \n",
    "fig.savefig(\"figures/housing_export.png\", dpi=300)"
   ]
  },
  {
   "cell_type": "markdown",
   "metadata": {},
   "source": [
    "### Charter vs. Public School Pie Charts"
   ]
  },
  {
   "cell_type": "code",
   "execution_count": 12,
   "metadata": {},
   "outputs": [],
   "source": [
    "# load data source\n",
    "csv_path = \"clean/studentbyward.csv\""
   ]
  },
  {
   "cell_type": "code",
   "execution_count": 13,
   "metadata": {},
   "outputs": [
    {
     "data": {
      "text/plain": [
       "['School Ward 2016-17',\n",
       " 'Sector',\n",
       " 'School name',\n",
       " 'Grade band',\n",
       " '% Non-white 2014-15',\n",
       " '% White 2014-15',\n",
       " '% Non-white 2016-17',\n",
       " '% White 2016-17',\n",
       " 'PK-12 Enrollment 2014-15',\n",
       " 'PK-12 Enrollment 2016-17',\n",
       " '% living in School Ward 2016-17',\n",
       " '% Change in Race/Ethnic Group between 2014-15 and 2016-17',\n",
       " '% Change in Economic Group between 2014-15 and 2016-17']"
      ]
     },
     "execution_count": 13,
     "metadata": {},
     "output_type": "execute_result"
    }
   ],
   "source": [
    "# Read with pandas into dataframe\n",
    "studentbyward_df = pd.read_csv(csv_path, encoding = 'iso-8859-1', low_memory=False)\n",
    "\n",
    "# Inspect all columns\n",
    "list(studentbyward_df.columns)"
   ]
  },
  {
   "cell_type": "code",
   "execution_count": 14,
   "metadata": {},
   "outputs": [
    {
     "data": {
      "text/html": [
       "<div>\n",
       "<style scoped>\n",
       "    .dataframe tbody tr th:only-of-type {\n",
       "        vertical-align: middle;\n",
       "    }\n",
       "\n",
       "    .dataframe tbody tr th {\n",
       "        vertical-align: top;\n",
       "    }\n",
       "\n",
       "    .dataframe thead th {\n",
       "        text-align: right;\n",
       "    }\n",
       "</style>\n",
       "<table border=\"1\" class=\"dataframe\">\n",
       "  <thead>\n",
       "    <tr style=\"text-align: right;\">\n",
       "      <th></th>\n",
       "      <th>School Ward 2016-17</th>\n",
       "      <th>Sector</th>\n",
       "      <th>School name</th>\n",
       "      <th>Grade band</th>\n",
       "      <th>Enrollment</th>\n",
       "    </tr>\n",
       "  </thead>\n",
       "  <tbody>\n",
       "    <tr>\n",
       "      <th>0</th>\n",
       "      <td>Ward 1</td>\n",
       "      <td>Charter</td>\n",
       "      <td>AppleTree Early Learning Center PCS Columbia H...</td>\n",
       "      <td>Early Childhood</td>\n",
       "      <td>323.0</td>\n",
       "    </tr>\n",
       "    <tr>\n",
       "      <th>1</th>\n",
       "      <td>Ward 1</td>\n",
       "      <td>Charter</td>\n",
       "      <td>District of Columbia International School</td>\n",
       "      <td>Middle/High</td>\n",
       "      <td>730.0</td>\n",
       "    </tr>\n",
       "    <tr>\n",
       "      <th>2</th>\n",
       "      <td>Ward 1</td>\n",
       "      <td>Charter</td>\n",
       "      <td>EL Haynes PCS Middle School</td>\n",
       "      <td>Middle</td>\n",
       "      <td>725.0</td>\n",
       "    </tr>\n",
       "    <tr>\n",
       "      <th>3</th>\n",
       "      <td>Ward 1</td>\n",
       "      <td>Charter</td>\n",
       "      <td>Meridian PCS</td>\n",
       "      <td>Elementary/Middle</td>\n",
       "      <td>1331.0</td>\n",
       "    </tr>\n",
       "    <tr>\n",
       "      <th>4</th>\n",
       "      <td>Ward 1</td>\n",
       "      <td>DCPS</td>\n",
       "      <td>Bancroft ES at Sharpe</td>\n",
       "      <td>Elementary</td>\n",
       "      <td>1038.0</td>\n",
       "    </tr>\n",
       "    <tr>\n",
       "      <th>5</th>\n",
       "      <td>Ward 1</td>\n",
       "      <td>DCPS</td>\n",
       "      <td>Bruce Monroe ES at Park View</td>\n",
       "      <td>Elementary</td>\n",
       "      <td>938.0</td>\n",
       "    </tr>\n",
       "    <tr>\n",
       "      <th>6</th>\n",
       "      <td>Ward 1</td>\n",
       "      <td>DCPS</td>\n",
       "      <td>Cardozo EC</td>\n",
       "      <td>Middle/High</td>\n",
       "      <td>1577.0</td>\n",
       "    </tr>\n",
       "    <tr>\n",
       "      <th>7</th>\n",
       "      <td>Ward 1</td>\n",
       "      <td>DCPS</td>\n",
       "      <td>Cleveland ES</td>\n",
       "      <td>Elementary</td>\n",
       "      <td>629.0</td>\n",
       "    </tr>\n",
       "    <tr>\n",
       "      <th>8</th>\n",
       "      <td>Ward 1</td>\n",
       "      <td>DCPS</td>\n",
       "      <td>Duke Ellington School of the Arts</td>\n",
       "      <td>High</td>\n",
       "      <td>1025.0</td>\n",
       "    </tr>\n",
       "    <tr>\n",
       "      <th>9</th>\n",
       "      <td>Ward 1</td>\n",
       "      <td>DCPS</td>\n",
       "      <td>H D Cooke ES</td>\n",
       "      <td>Elementary</td>\n",
       "      <td>820.0</td>\n",
       "    </tr>\n",
       "  </tbody>\n",
       "</table>\n",
       "</div>"
      ],
      "text/plain": [
       "  School Ward 2016-17   Sector  \\\n",
       "0              Ward 1  Charter   \n",
       "1              Ward 1  Charter   \n",
       "2              Ward 1  Charter   \n",
       "3              Ward 1  Charter   \n",
       "4              Ward 1     DCPS   \n",
       "5              Ward 1     DCPS   \n",
       "6              Ward 1     DCPS   \n",
       "7              Ward 1     DCPS   \n",
       "8              Ward 1     DCPS   \n",
       "9              Ward 1     DCPS   \n",
       "\n",
       "                                         School name         Grade band  \\\n",
       "0  AppleTree Early Learning Center PCS Columbia H...    Early Childhood   \n",
       "1          District of Columbia International School        Middle/High   \n",
       "2                        EL Haynes PCS Middle School             Middle   \n",
       "3                                       Meridian PCS  Elementary/Middle   \n",
       "4                              Bancroft ES at Sharpe         Elementary   \n",
       "5                       Bruce Monroe ES at Park View         Elementary   \n",
       "6                                         Cardozo EC        Middle/High   \n",
       "7                                       Cleveland ES         Elementary   \n",
       "8                  Duke Ellington School of the Arts               High   \n",
       "9                                       H D Cooke ES         Elementary   \n",
       "\n",
       "   Enrollment  \n",
       "0       323.0  \n",
       "1       730.0  \n",
       "2       725.0  \n",
       "3      1331.0  \n",
       "4      1038.0  \n",
       "5       938.0  \n",
       "6      1577.0  \n",
       "7       629.0  \n",
       "8      1025.0  \n",
       "9       820.0  "
      ]
     },
     "execution_count": 14,
     "metadata": {},
     "output_type": "execute_result"
    }
   ],
   "source": [
    "# sum enrollment for 2014-15 and 2016-17\n",
    "\n",
    "studentbyward_df['Enrollment'] = studentbyward_df['PK-12 Enrollment 2014-15'] + studentbyward_df['PK-12 Enrollment 2016-17']            \n",
    "# Slide data\n",
    "sub_studentbyward_df = studentbyward_df.iloc[:,[0, 1, 2, 3, 13]]\n",
    "\n",
    "#preview data\n",
    "sub_studentbyward_df.head(10)"
   ]
  },
  {
   "cell_type": "markdown",
   "metadata": {},
   "source": [
    "### 2a:  Ward 1 Analysis (gentrified ward)"
   ]
  },
  {
   "cell_type": "code",
   "execution_count": 15,
   "metadata": {},
   "outputs": [
    {
     "data": {
      "text/html": [
       "<div>\n",
       "<style scoped>\n",
       "    .dataframe tbody tr th:only-of-type {\n",
       "        vertical-align: middle;\n",
       "    }\n",
       "\n",
       "    .dataframe tbody tr th {\n",
       "        vertical-align: top;\n",
       "    }\n",
       "\n",
       "    .dataframe thead th {\n",
       "        text-align: right;\n",
       "    }\n",
       "</style>\n",
       "<table border=\"1\" class=\"dataframe\">\n",
       "  <thead>\n",
       "    <tr style=\"text-align: right;\">\n",
       "      <th></th>\n",
       "      <th>School Ward 2016-17</th>\n",
       "      <th>Sector</th>\n",
       "      <th>School name</th>\n",
       "      <th>Grade band</th>\n",
       "      <th>Enrollment</th>\n",
       "    </tr>\n",
       "  </thead>\n",
       "  <tbody>\n",
       "    <tr>\n",
       "      <th>0</th>\n",
       "      <td>Ward 1</td>\n",
       "      <td>Charter</td>\n",
       "      <td>AppleTree Early Learning Center PCS Columbia H...</td>\n",
       "      <td>Early Childhood</td>\n",
       "      <td>323.0</td>\n",
       "    </tr>\n",
       "    <tr>\n",
       "      <th>1</th>\n",
       "      <td>Ward 1</td>\n",
       "      <td>Charter</td>\n",
       "      <td>District of Columbia International School</td>\n",
       "      <td>Middle/High</td>\n",
       "      <td>730.0</td>\n",
       "    </tr>\n",
       "    <tr>\n",
       "      <th>2</th>\n",
       "      <td>Ward 1</td>\n",
       "      <td>Charter</td>\n",
       "      <td>EL Haynes PCS Middle School</td>\n",
       "      <td>Middle</td>\n",
       "      <td>725.0</td>\n",
       "    </tr>\n",
       "    <tr>\n",
       "      <th>3</th>\n",
       "      <td>Ward 1</td>\n",
       "      <td>Charter</td>\n",
       "      <td>Meridian PCS</td>\n",
       "      <td>Elementary/Middle</td>\n",
       "      <td>1331.0</td>\n",
       "    </tr>\n",
       "    <tr>\n",
       "      <th>4</th>\n",
       "      <td>Ward 1</td>\n",
       "      <td>DCPS</td>\n",
       "      <td>Bancroft ES at Sharpe</td>\n",
       "      <td>Elementary</td>\n",
       "      <td>1038.0</td>\n",
       "    </tr>\n",
       "  </tbody>\n",
       "</table>\n",
       "</div>"
      ],
      "text/plain": [
       "  School Ward 2016-17   Sector  \\\n",
       "0              Ward 1  Charter   \n",
       "1              Ward 1  Charter   \n",
       "2              Ward 1  Charter   \n",
       "3              Ward 1  Charter   \n",
       "4              Ward 1     DCPS   \n",
       "\n",
       "                                         School name         Grade band  \\\n",
       "0  AppleTree Early Learning Center PCS Columbia H...    Early Childhood   \n",
       "1          District of Columbia International School        Middle/High   \n",
       "2                        EL Haynes PCS Middle School             Middle   \n",
       "3                                       Meridian PCS  Elementary/Middle   \n",
       "4                              Bancroft ES at Sharpe         Elementary   \n",
       "\n",
       "   Enrollment  \n",
       "0       323.0  \n",
       "1       730.0  \n",
       "2       725.0  \n",
       "3      1331.0  \n",
       "4      1038.0  "
      ]
     },
     "execution_count": 15,
     "metadata": {},
     "output_type": "execute_result"
    }
   ],
   "source": [
    "#Slide data for Ward 1\n",
    "array = ['Ward 1']\n",
    "ward1_df = sub_studentbyward_df.loc[sub_studentbyward_df['School Ward 2016-17'].isin(array)]\n",
    "ward1_df.head()"
   ]
  },
  {
   "cell_type": "code",
   "execution_count": 16,
   "metadata": {},
   "outputs": [
    {
     "data": {
      "text/html": [
       "<div>\n",
       "<style scoped>\n",
       "    .dataframe tbody tr th:only-of-type {\n",
       "        vertical-align: middle;\n",
       "    }\n",
       "\n",
       "    .dataframe tbody tr th {\n",
       "        vertical-align: top;\n",
       "    }\n",
       "\n",
       "    .dataframe thead th {\n",
       "        text-align: right;\n",
       "    }\n",
       "</style>\n",
       "<table border=\"1\" class=\"dataframe\">\n",
       "  <thead>\n",
       "    <tr style=\"text-align: right;\">\n",
       "      <th></th>\n",
       "      <th>Enrollment</th>\n",
       "    </tr>\n",
       "    <tr>\n",
       "      <th>Sector</th>\n",
       "      <th></th>\n",
       "    </tr>\n",
       "  </thead>\n",
       "  <tbody>\n",
       "    <tr>\n",
       "      <th>Charter</th>\n",
       "      <td>3109.0</td>\n",
       "    </tr>\n",
       "    <tr>\n",
       "      <th>DCPS</th>\n",
       "      <td>7858.0</td>\n",
       "    </tr>\n",
       "  </tbody>\n",
       "</table>\n",
       "</div>"
      ],
      "text/plain": [
       "         Enrollment\n",
       "Sector             \n",
       "Charter      3109.0\n",
       "DCPS         7858.0"
      ]
     },
     "execution_count": 16,
     "metadata": {},
     "output_type": "execute_result"
    }
   ],
   "source": [
    "#group ward 1 data by sector for data visualization\n",
    "grouped_ward1_df = ward1_df.groupby(['Sector'])\n",
    "pie_ward1_df = grouped_ward1_df.sum()\n",
    "pie_ward1_df"
   ]
  },
  {
   "cell_type": "code",
   "execution_count": 17,
   "metadata": {},
   "outputs": [
    {
     "data": {
      "image/png": "[encoded data removed]",
      "text/plain": [
       "<Figure size 720x720 with 1 Axes>"
      ]
     },
     "metadata": {},
     "output_type": "display_data"
    }
   ],
   "source": [
    "# Create Ward 1 pie chart, set color, size, and percent\n",
    "\n",
    "colors = [\"lightcoral\", \"lightskyblue\"]\n",
    "ward1plot = pie_ward1_df.plot.pie(y='Enrollment', autopct=\"%1.2f%%\", colors = colors, figsize=(10, 10))\n",
    "# Create title, save output png file\n",
    "plt.title(\"Ward 1 Charter vs. Public schools\")\n",
    "plt.savefig(\"figures/ward1pie.png\")\n",
    "plt.show()"
   ]
  },
  {
   "cell_type": "markdown",
   "metadata": {},
   "source": [
    "### 2b: Ward 6 Analysis (gentrified ward)"
   ]
  },
  {
   "cell_type": "code",
   "execution_count": 18,
   "metadata": {},
   "outputs": [
    {
     "data": {
      "text/html": [
       "<div>\n",
       "<style scoped>\n",
       "    .dataframe tbody tr th:only-of-type {\n",
       "        vertical-align: middle;\n",
       "    }\n",
       "\n",
       "    .dataframe tbody tr th {\n",
       "        vertical-align: top;\n",
       "    }\n",
       "\n",
       "    .dataframe thead th {\n",
       "        text-align: right;\n",
       "    }\n",
       "</style>\n",
       "<table border=\"1\" class=\"dataframe\">\n",
       "  <thead>\n",
       "    <tr style=\"text-align: right;\">\n",
       "      <th></th>\n",
       "      <th>School Ward 2016-17</th>\n",
       "      <th>Sector</th>\n",
       "      <th>School name</th>\n",
       "      <th>Grade band</th>\n",
       "      <th>Enrollment</th>\n",
       "    </tr>\n",
       "  </thead>\n",
       "  <tbody>\n",
       "    <tr>\n",
       "      <th>62</th>\n",
       "      <td>Ward 6</td>\n",
       "      <td>Charter</td>\n",
       "      <td>AppleTree Early Learning Center PCS Southwest</td>\n",
       "      <td>Early Childhood</td>\n",
       "      <td>194.0</td>\n",
       "    </tr>\n",
       "    <tr>\n",
       "      <th>63</th>\n",
       "      <td>Ward 6</td>\n",
       "      <td>Charter</td>\n",
       "      <td>Center City PCS Shaw</td>\n",
       "      <td>Elementary/Middle</td>\n",
       "      <td>475.0</td>\n",
       "    </tr>\n",
       "    <tr>\n",
       "      <th>64</th>\n",
       "      <td>Ward 6</td>\n",
       "      <td>Charter</td>\n",
       "      <td>Eagle Academy PCS Capitol Riverfront</td>\n",
       "      <td>Elementary</td>\n",
       "      <td>290.0</td>\n",
       "    </tr>\n",
       "    <tr>\n",
       "      <th>65</th>\n",
       "      <td>Ward 6</td>\n",
       "      <td>Charter</td>\n",
       "      <td>KIPP DC WILL Academy PCS</td>\n",
       "      <td>Middle</td>\n",
       "      <td>690.0</td>\n",
       "    </tr>\n",
       "    <tr>\n",
       "      <th>66</th>\n",
       "      <td>Ward 6</td>\n",
       "      <td>Charter</td>\n",
       "      <td>Two Rivers PCS 4th St</td>\n",
       "      <td>Elementary/Middle</td>\n",
       "      <td>1045.0</td>\n",
       "    </tr>\n",
       "  </tbody>\n",
       "</table>\n",
       "</div>"
      ],
      "text/plain": [
       "   School Ward 2016-17   Sector  \\\n",
       "62              Ward 6  Charter   \n",
       "63              Ward 6  Charter   \n",
       "64              Ward 6  Charter   \n",
       "65              Ward 6  Charter   \n",
       "66              Ward 6  Charter   \n",
       "\n",
       "                                      School name         Grade band  \\\n",
       "62  AppleTree Early Learning Center PCS Southwest    Early Childhood   \n",
       "63                           Center City PCS Shaw  Elementary/Middle   \n",
       "64           Eagle Academy PCS Capitol Riverfront         Elementary   \n",
       "65                       KIPP DC WILL Academy PCS             Middle   \n",
       "66                          Two Rivers PCS 4th St  Elementary/Middle   \n",
       "\n",
       "    Enrollment  \n",
       "62       194.0  \n",
       "63       475.0  \n",
       "64       290.0  \n",
       "65       690.0  \n",
       "66      1045.0  "
      ]
     },
     "execution_count": 18,
     "metadata": {},
     "output_type": "execute_result"
    }
   ],
   "source": [
    "#Slide data for Ward 6\n",
    "array = ['Ward 6']\n",
    "ward6_df = sub_studentbyward_df.loc[sub_studentbyward_df['School Ward 2016-17'].isin(array)]\n",
    "ward6_df.head()"
   ]
  },
  {
   "cell_type": "code",
   "execution_count": 19,
   "metadata": {},
   "outputs": [
    {
     "data": {
      "text/html": [
       "<div>\n",
       "<style scoped>\n",
       "    .dataframe tbody tr th:only-of-type {\n",
       "        vertical-align: middle;\n",
       "    }\n",
       "\n",
       "    .dataframe tbody tr th {\n",
       "        vertical-align: top;\n",
       "    }\n",
       "\n",
       "    .dataframe thead th {\n",
       "        text-align: right;\n",
       "    }\n",
       "</style>\n",
       "<table border=\"1\" class=\"dataframe\">\n",
       "  <thead>\n",
       "    <tr style=\"text-align: right;\">\n",
       "      <th></th>\n",
       "      <th>Enrollment</th>\n",
       "    </tr>\n",
       "    <tr>\n",
       "      <th>Sector</th>\n",
       "      <th></th>\n",
       "    </tr>\n",
       "  </thead>\n",
       "  <tbody>\n",
       "    <tr>\n",
       "      <th>Charter</th>\n",
       "      <td>2694.0</td>\n",
       "    </tr>\n",
       "    <tr>\n",
       "      <th>DCPS</th>\n",
       "      <td>11771.0</td>\n",
       "    </tr>\n",
       "  </tbody>\n",
       "</table>\n",
       "</div>"
      ],
      "text/plain": [
       "         Enrollment\n",
       "Sector             \n",
       "Charter      2694.0\n",
       "DCPS        11771.0"
      ]
     },
     "execution_count": 19,
     "metadata": {},
     "output_type": "execute_result"
    }
   ],
   "source": [
    "#Group Ward 6 data by sector for data visualization\n",
    "grouped_ward6_df = ward6_df.groupby(['Sector'])\n",
    "pie_ward6_df = grouped_ward6_df.sum()\n",
    "pie_ward6_df"
   ]
  },
  {
   "cell_type": "code",
   "execution_count": 20,
   "metadata": {},
   "outputs": [
    {
     "data": {
      "image/png": "[encoded data removed]",
      "text/plain": [
       "<Figure size 720x720 with 1 Axes>"
      ]
     },
     "metadata": {},
     "output_type": "display_data"
    }
   ],
   "source": [
    "# Create Ward 3 pie chart, set color, size, and percent\n",
    "ward6plot = pie_ward6_df.plot.pie(y='Enrollment', autopct=\"%1.2f%%\", colors = colors, figsize=(10, 10))\n",
    "plt.title(\"Ward 6 Charter vs. Public schools\")\n",
    "# Create title, save output png file\n",
    "plt.savefig(\"figures/ward6pie.png\")\n",
    "plt.show()"
   ]
  },
  {
   "cell_type": "markdown",
   "metadata": {},
   "source": [
    "### 2c: Ward 3 Analysis (non-gentrified ward)"
   ]
  },
  {
   "cell_type": "code",
   "execution_count": 21,
   "metadata": {},
   "outputs": [
    {
     "data": {
      "text/html": [
       "<div>\n",
       "<style scoped>\n",
       "    .dataframe tbody tr th:only-of-type {\n",
       "        vertical-align: middle;\n",
       "    }\n",
       "\n",
       "    .dataframe tbody tr th {\n",
       "        vertical-align: top;\n",
       "    }\n",
       "\n",
       "    .dataframe thead th {\n",
       "        text-align: right;\n",
       "    }\n",
       "</style>\n",
       "<table border=\"1\" class=\"dataframe\">\n",
       "  <thead>\n",
       "    <tr style=\"text-align: right;\">\n",
       "      <th></th>\n",
       "      <th>School Ward 2016-17</th>\n",
       "      <th>Sector</th>\n",
       "      <th>School name</th>\n",
       "      <th>Grade band</th>\n",
       "      <th>Enrollment</th>\n",
       "    </tr>\n",
       "  </thead>\n",
       "  <tbody>\n",
       "    <tr>\n",
       "      <th>19</th>\n",
       "      <td>Ward 3</td>\n",
       "      <td>DCPS</td>\n",
       "      <td>Deal MS</td>\n",
       "      <td>Middle</td>\n",
       "      <td>2788.0</td>\n",
       "    </tr>\n",
       "    <tr>\n",
       "      <th>20</th>\n",
       "      <td>Ward 3</td>\n",
       "      <td>DCPS</td>\n",
       "      <td>Eaton ES</td>\n",
       "      <td>Elementary</td>\n",
       "      <td>952.0</td>\n",
       "    </tr>\n",
       "    <tr>\n",
       "      <th>21</th>\n",
       "      <td>Ward 3</td>\n",
       "      <td>DCPS</td>\n",
       "      <td>Hearst ES</td>\n",
       "      <td>Elementary</td>\n",
       "      <td>603.0</td>\n",
       "    </tr>\n",
       "    <tr>\n",
       "      <th>22</th>\n",
       "      <td>Ward 3</td>\n",
       "      <td>DCPS</td>\n",
       "      <td>Murch ES</td>\n",
       "      <td>Elementary</td>\n",
       "      <td>1192.0</td>\n",
       "    </tr>\n",
       "    <tr>\n",
       "      <th>23</th>\n",
       "      <td>Ward 3</td>\n",
       "      <td>DCPS</td>\n",
       "      <td>Oyster Adams Bilingual School</td>\n",
       "      <td>Elementary/Middle</td>\n",
       "      <td>1324.0</td>\n",
       "    </tr>\n",
       "  </tbody>\n",
       "</table>\n",
       "</div>"
      ],
      "text/plain": [
       "   School Ward 2016-17 Sector                    School name  \\\n",
       "19              Ward 3   DCPS                        Deal MS   \n",
       "20              Ward 3   DCPS                       Eaton ES   \n",
       "21              Ward 3   DCPS                      Hearst ES   \n",
       "22              Ward 3   DCPS                       Murch ES   \n",
       "23              Ward 3   DCPS  Oyster Adams Bilingual School   \n",
       "\n",
       "           Grade band  Enrollment  \n",
       "19             Middle      2788.0  \n",
       "20         Elementary       952.0  \n",
       "21         Elementary       603.0  \n",
       "22         Elementary      1192.0  \n",
       "23  Elementary/Middle      1324.0  "
      ]
     },
     "execution_count": 21,
     "metadata": {},
     "output_type": "execute_result"
    }
   ],
   "source": [
    "#Slide data for Ward 3\n",
    "array = ['Ward 3']\n",
    "ward3_df = sub_studentbyward_df.loc[sub_studentbyward_df['School Ward 2016-17'].isin(array)]\n",
    "ward3_df.head()"
   ]
  },
  {
   "cell_type": "code",
   "execution_count": 22,
   "metadata": {},
   "outputs": [
    {
     "data": {
      "text/html": [
       "<div>\n",
       "<style scoped>\n",
       "    .dataframe tbody tr th:only-of-type {\n",
       "        vertical-align: middle;\n",
       "    }\n",
       "\n",
       "    .dataframe tbody tr th {\n",
       "        vertical-align: top;\n",
       "    }\n",
       "\n",
       "    .dataframe thead th {\n",
       "        text-align: right;\n",
       "    }\n",
       "</style>\n",
       "<table border=\"1\" class=\"dataframe\">\n",
       "  <thead>\n",
       "    <tr style=\"text-align: right;\">\n",
       "      <th></th>\n",
       "      <th>Enrollment</th>\n",
       "    </tr>\n",
       "    <tr>\n",
       "      <th>Sector</th>\n",
       "      <th></th>\n",
       "    </tr>\n",
       "  </thead>\n",
       "  <tbody>\n",
       "    <tr>\n",
       "      <th>DCPS</th>\n",
       "      <td>11249.0</td>\n",
       "    </tr>\n",
       "  </tbody>\n",
       "</table>\n",
       "</div>"
      ],
      "text/plain": [
       "        Enrollment\n",
       "Sector            \n",
       "DCPS       11249.0"
      ]
     },
     "execution_count": 22,
     "metadata": {},
     "output_type": "execute_result"
    }
   ],
   "source": [
    "#Group Ward 3 data by sector for data visualization\n",
    "\n",
    "grouped_ward3_df = ward3_df.groupby(['Sector'])\n",
    "pie_ward3_df = grouped_ward3_df.sum()\n",
    "pie_ward3_df"
   ]
  },
  {
   "cell_type": "code",
   "execution_count": 23,
   "metadata": {},
   "outputs": [
    {
     "data": {
      "image/png": "[encoded data removed]",
      "text/plain": [
       "<Figure size 720x720 with 1 Axes>"
      ]
     },
     "metadata": {},
     "output_type": "display_data"
    }
   ],
   "source": [
    "# Create Ward 6 pie chart, set color, size, and percent\n",
    "color = [\"lightskyblue\"]\n",
    "ward3plot = pie_ward3_df.plot.pie(y='Enrollment', autopct=\"%1.2f%%\", colors = color, figsize=(10, 10))\n",
    "# Create title, save output png file\n",
    "plt.title(\"Ward 3 Charter vs. Public schools\")\n",
    "plt.savefig(\"figures/ward3pie.png\")\n",
    "plt.show()"
   ]
  },
  {
   "cell_type": "markdown",
   "metadata": {},
   "source": [
    "### Analysis #3: Does gentrification make an impact on where students choose to enroll in school?"
   ]
  },
  {
   "cell_type": "code",
   "execution_count": 2,
   "metadata": {},
   "outputs": [],
   "source": [
    "# load source data\n",
    "#csv_path = \"clean/landscape-diversity-data.xlsx\"\n",
    "csv_path = \"clean/studentbysector.csv\""
   ]
  },
  {
   "cell_type": "code",
   "execution_count": 3,
   "metadata": {},
   "outputs": [
    {
     "data": {
      "text/plain": [
       "['School Ward 2016-17',\n",
       " 'Sector',\n",
       " 'School name',\n",
       " 'Grade band',\n",
       " '% Non-white 2014-15',\n",
       " '% White 2014-15',\n",
       " '% Non-white 2016-17',\n",
       " '% White 2016-17',\n",
       " 'PK-12 Enrollment 2014-15',\n",
       " 'PK-12 Enrollment 2016-17',\n",
       " '% living in School Ward 2016-17',\n",
       " '% Change in Race/Ethnic Group between 2014-15 and 2016-17',\n",
       " '% Change in Economic Group between 2014-15 and 2016-17']"
      ]
     },
     "execution_count": 3,
     "metadata": {},
     "output_type": "execute_result"
    }
   ],
   "source": [
    "# Read with pandas into dataframe\n",
    "clean_sector_ward_df = pd.read_csv(csv_path, encoding = 'iso-8859-1', low_memory=False)\n",
    "\n",
    "# Inspect all columns\n",
    "list(clean_sector_ward_df.columns)"
   ]
  },
  {
   "cell_type": "code",
   "execution_count": 14,
   "metadata": {},
   "outputs": [
    {
     "ename": "NameError",
     "evalue": "name 'DataError' is not defined",
     "output_type": "error",
     "traceback": [
      "\u001b[0;31m---------------------------------------------------------------------------\u001b[0m",
      "\u001b[0;31mValueError\u001b[0m                                Traceback (most recent call last)",
      "\u001b[0;32mpandas/_libs/lib.pyx\u001b[0m in \u001b[0;36mpandas._libs.lib.maybe_convert_numeric\u001b[0;34m()\u001b[0m\n",
      "\u001b[0;31mValueError\u001b[0m: Unable to parse string \"49.00%\"",
      "\nDuring handling of the above exception, another exception occurred:\n",
      "\u001b[0;31mValueError\u001b[0m                                Traceback (most recent call last)",
      "\u001b[0;32m<ipython-input-14-889b80d59a73>\u001b[0m in \u001b[0;36m<module>\u001b[0;34m\u001b[0m\n\u001b[1;32m      4\u001b[0m     \u001b[0mclean_sector_ward_df\u001b[0m\u001b[0;34m[\u001b[0m\u001b[0;34m\"'% living in School Ward 2016-17\"\u001b[0m\u001b[0;34m]\u001b[0m \u001b[0;34m=\u001b[0m\u001b[0;31m \u001b[0m\u001b[0;31m\\\u001b[0m\u001b[0;34m\u001b[0m\u001b[0;34m\u001b[0m\u001b[0m\n\u001b[0;32m----> 5\u001b[0;31m     \u001b[0mpd\u001b[0m\u001b[0;34m.\u001b[0m\u001b[0mto_numeric\u001b[0m\u001b[0;34m(\u001b[0m\u001b[0mclean_sector_ward_df\u001b[0m\u001b[0;34m[\u001b[0m\u001b[0;34m\"% living in School Ward 2016-17\"\u001b[0m\u001b[0;34m]\u001b[0m\u001b[0;34m)\u001b[0m\u001b[0;34m\u001b[0m\u001b[0;34m\u001b[0m\u001b[0m\n\u001b[0m\u001b[1;32m      6\u001b[0m \u001b[0;34m\u001b[0m\u001b[0m\n",
      "\u001b[0;32m/Applications/anaconda3/lib/python3.7/site-packages/pandas/core/tools/numeric.py\u001b[0m in \u001b[0;36mto_numeric\u001b[0;34m(arg, errors, downcast)\u001b[0m\n\u001b[1;32m    134\u001b[0m             values = lib.maybe_convert_numeric(values, set(),\n\u001b[0;32m--> 135\u001b[0;31m                                                coerce_numeric=coerce_numeric)\n\u001b[0m\u001b[1;32m    136\u001b[0m \u001b[0;34m\u001b[0m\u001b[0m\n",
      "\u001b[0;32mpandas/_libs/lib.pyx\u001b[0m in \u001b[0;36mpandas._libs.lib.maybe_convert_numeric\u001b[0;34m()\u001b[0m\n",
      "\u001b[0;31mValueError\u001b[0m: Unable to parse string \"49.00%\" at position 0",
      "\nDuring handling of the above exception, another exception occurred:\n",
      "\u001b[0;31mNameError\u001b[0m                                 Traceback (most recent call last)",
      "\u001b[0;32m<ipython-input-14-889b80d59a73>\u001b[0m in \u001b[0;36m<module>\u001b[0;34m\u001b[0m\n\u001b[1;32m      8\u001b[0m             .groupby('School Ward 2016-17')['% living in School Ward 2016-17'].mean())\n\u001b[1;32m      9\u001b[0m \u001b[0;34m\u001b[0m\u001b[0m\n\u001b[0;32m---> 10\u001b[0;31m \u001b[0;32mexcept\u001b[0m \u001b[0mDataError\u001b[0m\u001b[0;34m:\u001b[0m\u001b[0;34m\u001b[0m\u001b[0;34m\u001b[0m\u001b[0m\n\u001b[0m\u001b[1;32m     11\u001b[0m     \u001b[0mclean_sector_ward_df\u001b[0m\u001b[0;34m[\u001b[0m\u001b[0;34m'% living in School Ward 2016-17'\u001b[0m\u001b[0;34m]\u001b[0m \u001b[0;34m=\u001b[0m\u001b[0;31m \u001b[0m\u001b[0;31m\\\u001b[0m\u001b[0;34m\u001b[0m\u001b[0;34m\u001b[0m\u001b[0m\n\u001b[1;32m     12\u001b[0m     \u001b[0mclean_sector_ward_df\u001b[0m\u001b[0;34m[\u001b[0m\u001b[0;34m'% living in School Ward 2016-17'\u001b[0m\u001b[0;34m]\u001b[0m\u001b[0;34m.\u001b[0m\u001b[0mstr\u001b[0m\u001b[0;34m.\u001b[0m\u001b[0mrstrip\u001b[0m\u001b[0;34m(\u001b[0m\u001b[0;34m'%'\u001b[0m\u001b[0;34m)\u001b[0m\u001b[0;34m.\u001b[0m\u001b[0mastype\u001b[0m\u001b[0;34m(\u001b[0m\u001b[0;34m'float'\u001b[0m\u001b[0;34m)\u001b[0m \u001b[0;34m/\u001b[0m \u001b[0;36m100.0\u001b[0m\u001b[0;34m\u001b[0m\u001b[0;34m\u001b[0m\u001b[0m\n",
      "\u001b[0;31mNameError\u001b[0m: name 'DataError' is not defined"
     ]
    }
   ],
   "source": [
    "#calculate mean of pct living in ward\n",
    "#add code to convert-a-string-percent-to-a-float for calculation if dataerror\n",
    "\n",
    "try: \n",
    "    ward1 = (clean_sector_ward_df.groupby(['School Ward 2016-17', '% living in School Ward 2016-17'], as_index=False).mean()\n",
    "            .groupby('School Ward 2016-17')['% living in School Ward 2016-17'].mean())\n",
    "\n",
    "except DataError:\n",
    "    clean_sector_ward_df['% living in School Ward 2016-17'] = \\\n",
    "    clean_sector_ward_df['% living in School Ward 2016-17'].str.rstrip('%').astype('float') / 100.0\n",
    "\n",
    "    ward1 = (clean_sector_ward_df.groupby(['School Ward 2016-17', '% living in School Ward 2016-17'], as_index=False).mean()\n",
    "            .groupby('School Ward 2016-17')['% living in School Ward 2016-17'].mean())\n",
    "\n",
    "\n",
    "ward1\n"
   ]
  },
  {
   "cell_type": "code",
   "execution_count": 4,
   "metadata": {},
   "outputs": [
    {
     "data": {
      "text/plain": [
       "School Ward 2016-17\n",
       "Ward 1    0.455000\n",
       "Ward 2    0.244286\n",
       "Ward 3    0.540000\n",
       "Ward 4    0.609474\n",
       "Ward 5    0.406667\n",
       "Ward 6    0.474444\n",
       "Ward 7    0.826667\n",
       "Ward 8    0.872500\n",
       "Name: % living in School Ward 2016-17, dtype: float64"
      ]
     },
     "execution_count": 4,
     "metadata": {},
     "output_type": "execute_result"
    }
   ],
   "source": [
    "ward1 = (clean_sector_ward_df.groupby(['School Ward 2016-17', '% living in School Ward 2016-17'], as_index=False).mean()\n",
    "            .groupby('School Ward 2016-17')['% living in School Ward 2016-17'].mean())\n",
    "\n",
    "\n",
    "ward1"
   ]
  },
  {
   "cell_type": "code",
   "execution_count": 5,
   "metadata": {},
   "outputs": [
    {
     "data": {
      "image/png": "[encoded data removed]",
      "text/plain": [
       "<Figure size 432x288 with 1 Axes>"
      ]
     },
     "metadata": {
      "needs_background": "light"
     },
     "output_type": "display_data"
    }
   ],
   "source": [
    "# %matplotlib notebook\n",
    "# from matplotlib import pyplot as plt\n",
    "# Create Ward 6 pie chart, set color, size, and percent\n",
    "ax = ward1.plot.bar(x='School Ward 2016-17', y='% living in School Ward 2016-17', rot=0)\n",
    "\n",
    "plt.title(\"Percent enrolled living in same ward\")\n",
    "plt.xlabel(\"School Ward\")\n",
    "plt.ylabel(\"Percent living in ward of school\")\n",
    "\n",
    "plt.savefig(\"figures/LivingInWard.png\")\n",
    "plt.show()"
   ]
  },
  {
   "cell_type": "code",
   "execution_count": null,
   "metadata": {},
   "outputs": [],
   "source": []
  }
 ],
 "metadata": {
  "kernelspec": {
   "display_name": "Python 3",
   "language": "python",
   "name": "python3"
  },
  "language_info": {
   "codemirror_mode": {
    "name": "ipython",
    "version": 3
   },
   "file_extension": ".py",
   "mimetype": "text/x-python",
   "name": "python",
   "nbconvert_exporter": "python",
   "pygments_lexer": "ipython3",
   "version": "3.7.3"
  }
 },
 "nbformat": 4,
 "nbformat_minor": 2
}
